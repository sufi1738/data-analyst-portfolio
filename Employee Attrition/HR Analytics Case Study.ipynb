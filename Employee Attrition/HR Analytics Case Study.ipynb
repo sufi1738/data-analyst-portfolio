{
 "cells": [
  {
   "cell_type": "markdown",
   "metadata": {},
   "source": [
    "# Project Name: HR Analytics (Employee Attrition)\n",
    "\n",
    "The objective of this project is to find the reason/factors leading to employee attrition. \n"
   ]
  },
  {
   "cell_type": "markdown",
   "metadata": {},
   "source": [
    "##  Life Cycle of the Project:\n",
    "    1.Data Analysis\n",
    "    2.Feature Engineering\n",
    "    3.Feature Selection\n",
    "    4.Model Building\n",
    "    5.Model Deployment"
   ]
  },
  {
   "cell_type": "markdown",
   "metadata": {},
   "source": [
    "## Pre - Modelling (Exploratory Data Analysis)"
   ]
  },
  {
   "cell_type": "code",
   "execution_count": 53,
   "metadata": {},
   "outputs": [],
   "source": [
    "# Data Analysis Phase\n",
    "\n",
    "# Importing the necessary libraries \n",
    "import pandas as pd\n",
    "import numpy as np\n",
    "import matplotlib.pyplot as plt\n",
    "import seaborn as sns\n",
    "%matplotlib inline\n",
    "\n",
    "# Display all the columns of the dataframe\n",
    "pd.pandas.set_option('display.max_columns',None)"
   ]
  },
  {
   "cell_type": "code",
   "execution_count": 54,
   "metadata": {},
   "outputs": [],
   "source": [
    "# Display all the rows of the dataframe\n",
    "#pd.pandas.set_option('display.max_rows',None)"
   ]
  },
  {
   "cell_type": "markdown",
   "metadata": {},
   "source": [
    "#### Reading the data"
   ]
  },
  {
   "cell_type": "code",
   "execution_count": 55,
   "metadata": {},
   "outputs": [],
   "source": [
    "# Reading the data\n",
    "general = pd.read_csv('D:/Business Analytics/PYTHON/Projects/HR Analytics/general_data.csv', sep=',')\n",
    "emp_survry = pd.read_csv('D:/Business Analytics/PYTHON/Projects/HR Analytics/employee_survey_data.csv', sep=',')\n",
    "emp_perform = pd.read_csv('D:/Business Analytics/PYTHON/Projects/HR Analytics/manager_survey_data.csv', sep=',')"
   ]
  },
  {
   "cell_type": "code",
   "execution_count": 56,
   "metadata": {},
   "outputs": [],
   "source": [
    "# Merging the data into one complete dataset\n",
    "df = pd.merge(general,emp_survry,on='EmployeeID', how='left')\n",
    "data = pd.merge(df,emp_perform,on='EmployeeID', how='left')"
   ]
  },
  {
   "cell_type": "markdown",
   "metadata": {},
   "source": [
    "#### Number of rows and columns"
   ]
  },
  {
   "cell_type": "code",
   "execution_count": 57,
   "metadata": {},
   "outputs": [
    {
     "data": {
      "text/plain": [
       "(4410, 29)"
      ]
     },
     "execution_count": 57,
     "metadata": {},
     "output_type": "execute_result"
    }
   ],
   "source": [
    "#Number of rows and columns in the data\n",
    "data.shape"
   ]
  },
  {
   "cell_type": "code",
   "execution_count": 58,
   "metadata": {
    "scrolled": true
   },
   "outputs": [
    {
     "data": {
      "text/html": [
       "<div>\n",
       "<style scoped>\n",
       "    .dataframe tbody tr th:only-of-type {\n",
       "        vertical-align: middle;\n",
       "    }\n",
       "\n",
       "    .dataframe tbody tr th {\n",
       "        vertical-align: top;\n",
       "    }\n",
       "\n",
       "    .dataframe thead th {\n",
       "        text-align: right;\n",
       "    }\n",
       "</style>\n",
       "<table border=\"1\" class=\"dataframe\">\n",
       "  <thead>\n",
       "    <tr style=\"text-align: right;\">\n",
       "      <th></th>\n",
       "      <th>Age</th>\n",
       "      <th>Attrition</th>\n",
       "      <th>BusinessTravel</th>\n",
       "      <th>Department</th>\n",
       "      <th>DistanceFromHome</th>\n",
       "      <th>Education</th>\n",
       "      <th>EducationField</th>\n",
       "      <th>EmployeeCount</th>\n",
       "      <th>EmployeeID</th>\n",
       "      <th>Gender</th>\n",
       "      <th>JobLevel</th>\n",
       "      <th>JobRole</th>\n",
       "      <th>MaritalStatus</th>\n",
       "      <th>MonthlyIncome</th>\n",
       "      <th>NumCompaniesWorked</th>\n",
       "      <th>Over18</th>\n",
       "      <th>PercentSalaryHike</th>\n",
       "      <th>StandardHours</th>\n",
       "      <th>StockOptionLevel</th>\n",
       "      <th>TotalWorkingYears</th>\n",
       "      <th>TrainingTimesLastYear</th>\n",
       "      <th>YearsAtCompany</th>\n",
       "      <th>YearsSinceLastPromotion</th>\n",
       "      <th>YearsWithCurrManager</th>\n",
       "      <th>EnvironmentSatisfaction</th>\n",
       "      <th>JobSatisfaction</th>\n",
       "      <th>WorkLifeBalance</th>\n",
       "      <th>JobInvolvement</th>\n",
       "      <th>PerformanceRating</th>\n",
       "    </tr>\n",
       "  </thead>\n",
       "  <tbody>\n",
       "    <tr>\n",
       "      <th>0</th>\n",
       "      <td>51</td>\n",
       "      <td>No</td>\n",
       "      <td>Travel_Rarely</td>\n",
       "      <td>Sales</td>\n",
       "      <td>6</td>\n",
       "      <td>2</td>\n",
       "      <td>Life Sciences</td>\n",
       "      <td>1</td>\n",
       "      <td>1</td>\n",
       "      <td>Female</td>\n",
       "      <td>1</td>\n",
       "      <td>Healthcare Representative</td>\n",
       "      <td>Married</td>\n",
       "      <td>131160</td>\n",
       "      <td>1.0</td>\n",
       "      <td>Y</td>\n",
       "      <td>11</td>\n",
       "      <td>8</td>\n",
       "      <td>0</td>\n",
       "      <td>1.0</td>\n",
       "      <td>6</td>\n",
       "      <td>1</td>\n",
       "      <td>0</td>\n",
       "      <td>0</td>\n",
       "      <td>3.0</td>\n",
       "      <td>4.0</td>\n",
       "      <td>2.0</td>\n",
       "      <td>3</td>\n",
       "      <td>3</td>\n",
       "    </tr>\n",
       "    <tr>\n",
       "      <th>1</th>\n",
       "      <td>31</td>\n",
       "      <td>Yes</td>\n",
       "      <td>Travel_Frequently</td>\n",
       "      <td>Research &amp; Development</td>\n",
       "      <td>10</td>\n",
       "      <td>1</td>\n",
       "      <td>Life Sciences</td>\n",
       "      <td>1</td>\n",
       "      <td>2</td>\n",
       "      <td>Female</td>\n",
       "      <td>1</td>\n",
       "      <td>Research Scientist</td>\n",
       "      <td>Single</td>\n",
       "      <td>41890</td>\n",
       "      <td>0.0</td>\n",
       "      <td>Y</td>\n",
       "      <td>23</td>\n",
       "      <td>8</td>\n",
       "      <td>1</td>\n",
       "      <td>6.0</td>\n",
       "      <td>3</td>\n",
       "      <td>5</td>\n",
       "      <td>1</td>\n",
       "      <td>4</td>\n",
       "      <td>3.0</td>\n",
       "      <td>2.0</td>\n",
       "      <td>4.0</td>\n",
       "      <td>2</td>\n",
       "      <td>4</td>\n",
       "    </tr>\n",
       "    <tr>\n",
       "      <th>2</th>\n",
       "      <td>32</td>\n",
       "      <td>No</td>\n",
       "      <td>Travel_Frequently</td>\n",
       "      <td>Research &amp; Development</td>\n",
       "      <td>17</td>\n",
       "      <td>4</td>\n",
       "      <td>Other</td>\n",
       "      <td>1</td>\n",
       "      <td>3</td>\n",
       "      <td>Male</td>\n",
       "      <td>4</td>\n",
       "      <td>Sales Executive</td>\n",
       "      <td>Married</td>\n",
       "      <td>193280</td>\n",
       "      <td>1.0</td>\n",
       "      <td>Y</td>\n",
       "      <td>15</td>\n",
       "      <td>8</td>\n",
       "      <td>3</td>\n",
       "      <td>5.0</td>\n",
       "      <td>2</td>\n",
       "      <td>5</td>\n",
       "      <td>0</td>\n",
       "      <td>3</td>\n",
       "      <td>2.0</td>\n",
       "      <td>2.0</td>\n",
       "      <td>1.0</td>\n",
       "      <td>3</td>\n",
       "      <td>3</td>\n",
       "    </tr>\n",
       "    <tr>\n",
       "      <th>3</th>\n",
       "      <td>38</td>\n",
       "      <td>No</td>\n",
       "      <td>Non-Travel</td>\n",
       "      <td>Research &amp; Development</td>\n",
       "      <td>2</td>\n",
       "      <td>5</td>\n",
       "      <td>Life Sciences</td>\n",
       "      <td>1</td>\n",
       "      <td>4</td>\n",
       "      <td>Male</td>\n",
       "      <td>3</td>\n",
       "      <td>Human Resources</td>\n",
       "      <td>Married</td>\n",
       "      <td>83210</td>\n",
       "      <td>3.0</td>\n",
       "      <td>Y</td>\n",
       "      <td>11</td>\n",
       "      <td>8</td>\n",
       "      <td>3</td>\n",
       "      <td>13.0</td>\n",
       "      <td>5</td>\n",
       "      <td>8</td>\n",
       "      <td>7</td>\n",
       "      <td>5</td>\n",
       "      <td>4.0</td>\n",
       "      <td>4.0</td>\n",
       "      <td>3.0</td>\n",
       "      <td>2</td>\n",
       "      <td>3</td>\n",
       "    </tr>\n",
       "    <tr>\n",
       "      <th>4</th>\n",
       "      <td>32</td>\n",
       "      <td>No</td>\n",
       "      <td>Travel_Rarely</td>\n",
       "      <td>Research &amp; Development</td>\n",
       "      <td>10</td>\n",
       "      <td>1</td>\n",
       "      <td>Medical</td>\n",
       "      <td>1</td>\n",
       "      <td>5</td>\n",
       "      <td>Male</td>\n",
       "      <td>1</td>\n",
       "      <td>Sales Executive</td>\n",
       "      <td>Single</td>\n",
       "      <td>23420</td>\n",
       "      <td>4.0</td>\n",
       "      <td>Y</td>\n",
       "      <td>12</td>\n",
       "      <td>8</td>\n",
       "      <td>2</td>\n",
       "      <td>9.0</td>\n",
       "      <td>2</td>\n",
       "      <td>6</td>\n",
       "      <td>0</td>\n",
       "      <td>4</td>\n",
       "      <td>4.0</td>\n",
       "      <td>1.0</td>\n",
       "      <td>3.0</td>\n",
       "      <td>3</td>\n",
       "      <td>3</td>\n",
       "    </tr>\n",
       "  </tbody>\n",
       "</table>\n",
       "</div>"
      ],
      "text/plain": [
       "   Age Attrition     BusinessTravel              Department  DistanceFromHome  \\\n",
       "0   51        No      Travel_Rarely                   Sales                 6   \n",
       "1   31       Yes  Travel_Frequently  Research & Development                10   \n",
       "2   32        No  Travel_Frequently  Research & Development                17   \n",
       "3   38        No         Non-Travel  Research & Development                 2   \n",
       "4   32        No      Travel_Rarely  Research & Development                10   \n",
       "\n",
       "   Education EducationField  EmployeeCount  EmployeeID  Gender  JobLevel  \\\n",
       "0          2  Life Sciences              1           1  Female         1   \n",
       "1          1  Life Sciences              1           2  Female         1   \n",
       "2          4          Other              1           3    Male         4   \n",
       "3          5  Life Sciences              1           4    Male         3   \n",
       "4          1        Medical              1           5    Male         1   \n",
       "\n",
       "                     JobRole MaritalStatus  MonthlyIncome  NumCompaniesWorked  \\\n",
       "0  Healthcare Representative       Married         131160                 1.0   \n",
       "1         Research Scientist        Single          41890                 0.0   \n",
       "2            Sales Executive       Married         193280                 1.0   \n",
       "3            Human Resources       Married          83210                 3.0   \n",
       "4            Sales Executive        Single          23420                 4.0   \n",
       "\n",
       "  Over18  PercentSalaryHike  StandardHours  StockOptionLevel  \\\n",
       "0      Y                 11              8                 0   \n",
       "1      Y                 23              8                 1   \n",
       "2      Y                 15              8                 3   \n",
       "3      Y                 11              8                 3   \n",
       "4      Y                 12              8                 2   \n",
       "\n",
       "   TotalWorkingYears  TrainingTimesLastYear  YearsAtCompany  \\\n",
       "0                1.0                      6               1   \n",
       "1                6.0                      3               5   \n",
       "2                5.0                      2               5   \n",
       "3               13.0                      5               8   \n",
       "4                9.0                      2               6   \n",
       "\n",
       "   YearsSinceLastPromotion  YearsWithCurrManager  EnvironmentSatisfaction  \\\n",
       "0                        0                     0                      3.0   \n",
       "1                        1                     4                      3.0   \n",
       "2                        0                     3                      2.0   \n",
       "3                        7                     5                      4.0   \n",
       "4                        0                     4                      4.0   \n",
       "\n",
       "   JobSatisfaction  WorkLifeBalance  JobInvolvement  PerformanceRating  \n",
       "0              4.0              2.0               3                  3  \n",
       "1              2.0              4.0               2                  4  \n",
       "2              2.0              1.0               3                  3  \n",
       "3              4.0              3.0               2                  3  \n",
       "4              1.0              3.0               3                  3  "
      ]
     },
     "execution_count": 58,
     "metadata": {},
     "output_type": "execute_result"
    }
   ],
   "source": [
    "# Top 5 records\n",
    "data.head()"
   ]
  },
  {
   "cell_type": "markdown",
   "metadata": {},
   "source": [
    "#### Data Type Checks"
   ]
  },
  {
   "cell_type": "code",
   "execution_count": 59,
   "metadata": {},
   "outputs": [],
   "source": [
    "# Converting ordinal variables datatype\n",
    "ordinal_feature = ['JobSatisfaction','Education','JobLevel','StockOptionLevel','EnvironmentSatisfaction','WorkLifeBalance', 'JobInvolvement','PerformanceRating']\n",
    "\n",
    "for feature in ordinal_feature:\n",
    "    data[feature] = data[feature].astype(str)\n"
   ]
  },
  {
   "cell_type": "markdown",
   "metadata": {},
   "source": [
    "#### Duplicate Values"
   ]
  },
  {
   "cell_type": "code",
   "execution_count": 60,
   "metadata": {},
   "outputs": [
    {
     "data": {
      "text/plain": [
       "0"
      ]
     },
     "execution_count": 60,
     "metadata": {},
     "output_type": "execute_result"
    }
   ],
   "source": [
    "# Checking for the duplicate records\n",
    "data.duplicated().sum()\n",
    "\n",
    "# There is no duplicate record in the data"
   ]
  },
  {
   "cell_type": "markdown",
   "metadata": {},
   "source": [
    "#### Number of categories"
   ]
  },
  {
   "cell_type": "code",
   "execution_count": 61,
   "metadata": {},
   "outputs": [
    {
     "name": "stdout",
     "output_type": "stream",
     "text": [
      "Attrition - 2\n",
      "BusinessTravel - 3\n",
      "Department - 3\n",
      "Education - 5\n",
      "EducationField - 6\n",
      "EmployeeCount - 1\n",
      "Gender - 2\n",
      "JobLevel - 5\n",
      "JobRole - 9\n",
      "MaritalStatus - 3\n",
      "NumCompaniesWorked - 11\n",
      "Over18 - 1\n",
      "PercentSalaryHike - 15\n",
      "StandardHours - 1\n",
      "StockOptionLevel - 4\n",
      "TrainingTimesLastYear - 7\n",
      "YearsSinceLastPromotion - 16\n",
      "YearsWithCurrManager - 18\n",
      "EnvironmentSatisfaction - 5\n",
      "JobSatisfaction - 5\n",
      "WorkLifeBalance - 5\n",
      "JobInvolvement - 4\n",
      "PerformanceRating - 2\n"
     ]
    }
   ],
   "source": [
    "# Checking for number of category of discrete and categorical variables\n",
    "dis_cat_feature =[feature for feature in data.columns if len(data[feature].unique())<25]\n",
    "\n",
    "for feature in dis_cat_feature:\n",
    "    unique = len(data[feature].unique())\n",
    "    print(feature,'-',unique)"
   ]
  },
  {
   "cell_type": "markdown",
   "metadata": {},
   "source": [
    "As we can observe that there are few variables like **EmployeeCount, Over18, StandardHours** that have only one unique value. These variables cannot generate useful value for the data."
   ]
  },
  {
   "cell_type": "code",
   "execution_count": 62,
   "metadata": {},
   "outputs": [],
   "source": [
    "# Removing Variables which does not generate value\n",
    "data.drop(columns = ['EmployeeCount','Over18','StandardHours','EmployeeID'], inplace=True)"
   ]
  },
  {
   "cell_type": "markdown",
   "metadata": {},
   "source": [
    "## In Data Analysis we will analyse the following:\n",
    "    1.Missing Values\n",
    "    2.All the numerical and categorical variable\n",
    "    3.Cardinality of categorical variable\n",
    "    4.Outliers\n",
    "    5.Relationship between independent and dependent feature(Sale Price)"
   ]
  },
  {
   "cell_type": "markdown",
   "metadata": {},
   "source": [
    "### Missing Values"
   ]
  },
  {
   "cell_type": "code",
   "execution_count": 63,
   "metadata": {},
   "outputs": [
    {
     "name": "stdout",
     "output_type": "stream",
     "text": [
      "NumCompaniesWorked : 0.0043 %\n",
      "TotalWorkingYears : 0.002 %\n"
     ]
    }
   ],
   "source": [
    "# Here we will check the missing values in each columns\n",
    "feature_with_na = [feature for feature in data.columns if data[feature].isnull().sum()>0 ]\n",
    "\n",
    "# Printing the Feature name and missing percentage\n",
    "for feature in feature_with_na:\n",
    "    print(feature,':',np.round(data[feature].isnull().mean(),4),'%')\n",
    "    \n",
    "     "
   ]
  },
  {
   "cell_type": "markdown",
   "metadata": {},
   "source": [
    "As we can see that there are few features with very small percentage of missing values."
   ]
  },
  {
   "cell_type": "markdown",
   "metadata": {},
   "source": [
    "### Visualizing Attrition"
   ]
  },
  {
   "cell_type": "code",
   "execution_count": 64,
   "metadata": {},
   "outputs": [
    {
     "data": {
      "image/png": "[encoded data removed]",
      "text/plain": [
       "<Figure size 432x216 with 1 Axes>"
      ]
     },
     "metadata": {
      "needs_background": "light"
     },
     "output_type": "display_data"
    }
   ],
   "source": [
    "# Attrition Count\n",
    "df=data.groupby(by='Attrition')['Attrition'].count()\n",
    "\n",
    "# Count PLot\n",
    "plt.figure(figsize=(6,3))\n",
    "sns.countplot(x='Attrition',data=data, palette='Blues',hue='Attrition',edgecolor='black')\n",
    "plt.xlabel('Attrition')\n",
    "plt.ylabel('Count of Attrition')\n",
    "plt.title('Comparison of Attrition ')\n",
    "plt.show()"
   ]
  },
  {
   "cell_type": "markdown",
   "metadata": {},
   "source": [
    "#### Percentage of attrition"
   ]
  },
  {
   "cell_type": "code",
   "execution_count": 65,
   "metadata": {},
   "outputs": [
    {
     "name": "stdout",
     "output_type": "stream",
     "text": [
      "Percentagr of Attrition:  16.12 %\n"
     ]
    }
   ],
   "source": [
    "# Attrition percentage in the dataset\n",
    "att_pcent = len(data.Attrition[data.Attrition=='Yes'])/len(data)*100\n",
    "print('Percentagr of Attrition: ',np.round(att_pcent,2),'%')"
   ]
  },
  {
   "cell_type": "markdown",
   "metadata": {},
   "source": [
    "#### Number of numerical features"
   ]
  },
  {
   "cell_type": "code",
   "execution_count": 66,
   "metadata": {},
   "outputs": [
    {
     "name": "stdout",
     "output_type": "stream",
     "text": [
      "Number of Numerical Feature: 10\n"
     ]
    },
    {
     "data": {
      "text/html": [
       "<div>\n",
       "<style scoped>\n",
       "    .dataframe tbody tr th:only-of-type {\n",
       "        vertical-align: middle;\n",
       "    }\n",
       "\n",
       "    .dataframe tbody tr th {\n",
       "        vertical-align: top;\n",
       "    }\n",
       "\n",
       "    .dataframe thead th {\n",
       "        text-align: right;\n",
       "    }\n",
       "</style>\n",
       "<table border=\"1\" class=\"dataframe\">\n",
       "  <thead>\n",
       "    <tr style=\"text-align: right;\">\n",
       "      <th></th>\n",
       "      <th>Age</th>\n",
       "      <th>DistanceFromHome</th>\n",
       "      <th>MonthlyIncome</th>\n",
       "      <th>NumCompaniesWorked</th>\n",
       "      <th>PercentSalaryHike</th>\n",
       "      <th>TotalWorkingYears</th>\n",
       "      <th>TrainingTimesLastYear</th>\n",
       "      <th>YearsAtCompany</th>\n",
       "      <th>YearsSinceLastPromotion</th>\n",
       "      <th>YearsWithCurrManager</th>\n",
       "    </tr>\n",
       "  </thead>\n",
       "  <tbody>\n",
       "    <tr>\n",
       "      <th>0</th>\n",
       "      <td>51</td>\n",
       "      <td>6</td>\n",
       "      <td>131160</td>\n",
       "      <td>1.0</td>\n",
       "      <td>11</td>\n",
       "      <td>1.0</td>\n",
       "      <td>6</td>\n",
       "      <td>1</td>\n",
       "      <td>0</td>\n",
       "      <td>0</td>\n",
       "    </tr>\n",
       "    <tr>\n",
       "      <th>1</th>\n",
       "      <td>31</td>\n",
       "      <td>10</td>\n",
       "      <td>41890</td>\n",
       "      <td>0.0</td>\n",
       "      <td>23</td>\n",
       "      <td>6.0</td>\n",
       "      <td>3</td>\n",
       "      <td>5</td>\n",
       "      <td>1</td>\n",
       "      <td>4</td>\n",
       "    </tr>\n",
       "    <tr>\n",
       "      <th>2</th>\n",
       "      <td>32</td>\n",
       "      <td>17</td>\n",
       "      <td>193280</td>\n",
       "      <td>1.0</td>\n",
       "      <td>15</td>\n",
       "      <td>5.0</td>\n",
       "      <td>2</td>\n",
       "      <td>5</td>\n",
       "      <td>0</td>\n",
       "      <td>3</td>\n",
       "    </tr>\n",
       "    <tr>\n",
       "      <th>3</th>\n",
       "      <td>38</td>\n",
       "      <td>2</td>\n",
       "      <td>83210</td>\n",
       "      <td>3.0</td>\n",
       "      <td>11</td>\n",
       "      <td>13.0</td>\n",
       "      <td>5</td>\n",
       "      <td>8</td>\n",
       "      <td>7</td>\n",
       "      <td>5</td>\n",
       "    </tr>\n",
       "    <tr>\n",
       "      <th>4</th>\n",
       "      <td>32</td>\n",
       "      <td>10</td>\n",
       "      <td>23420</td>\n",
       "      <td>4.0</td>\n",
       "      <td>12</td>\n",
       "      <td>9.0</td>\n",
       "      <td>2</td>\n",
       "      <td>6</td>\n",
       "      <td>0</td>\n",
       "      <td>4</td>\n",
       "    </tr>\n",
       "  </tbody>\n",
       "</table>\n",
       "</div>"
      ],
      "text/plain": [
       "   Age  DistanceFromHome  MonthlyIncome  NumCompaniesWorked  \\\n",
       "0   51                 6         131160                 1.0   \n",
       "1   31                10          41890                 0.0   \n",
       "2   32                17         193280                 1.0   \n",
       "3   38                 2          83210                 3.0   \n",
       "4   32                10          23420                 4.0   \n",
       "\n",
       "   PercentSalaryHike  TotalWorkingYears  TrainingTimesLastYear  \\\n",
       "0                 11                1.0                      6   \n",
       "1                 23                6.0                      3   \n",
       "2                 15                5.0                      2   \n",
       "3                 11               13.0                      5   \n",
       "4                 12                9.0                      2   \n",
       "\n",
       "   YearsAtCompany  YearsSinceLastPromotion  YearsWithCurrManager  \n",
       "0               1                        0                     0  \n",
       "1               5                        1                     4  \n",
       "2               5                        0                     3  \n",
       "3               8                        7                     5  \n",
       "4               6                        0                     4  "
      ]
     },
     "execution_count": 66,
     "metadata": {},
     "output_type": "execute_result"
    }
   ],
   "source": [
    "# List of continuous Variable\n",
    "numerical_feature = [feature for feature in data.columns if data[feature].dtype!='O']\n",
    "\n",
    "# No. of Numerical features\n",
    "print('Number of Numerical Feature:',len(numerical_feature))\n",
    "\n",
    "# Numerical Data\n",
    "data[numerical_feature].head()"
   ]
  },
  {
   "cell_type": "code",
   "execution_count": 67,
   "metadata": {},
   "outputs": [],
   "source": [
    "# Continuous features\n",
    "continuous_feature = [feature for feature in data.columns.difference(['EmployeeID']) if len(data[feature].unique())>25]"
   ]
  },
  {
   "cell_type": "markdown",
   "metadata": {},
   "source": [
    "#### Summary of continuous feature"
   ]
  },
  {
   "cell_type": "code",
   "execution_count": 68,
   "metadata": {},
   "outputs": [
    {
     "data": {
      "text/html": [
       "<div>\n",
       "<style scoped>\n",
       "    .dataframe tbody tr th:only-of-type {\n",
       "        vertical-align: middle;\n",
       "    }\n",
       "\n",
       "    .dataframe tbody tr th {\n",
       "        vertical-align: top;\n",
       "    }\n",
       "\n",
       "    .dataframe thead th {\n",
       "        text-align: right;\n",
       "    }\n",
       "</style>\n",
       "<table border=\"1\" class=\"dataframe\">\n",
       "  <thead>\n",
       "    <tr style=\"text-align: right;\">\n",
       "      <th></th>\n",
       "      <th>Median</th>\n",
       "      <th>Mean</th>\n",
       "      <th>Std</th>\n",
       "      <th>Var</th>\n",
       "      <th>CV</th>\n",
       "      <th>Min</th>\n",
       "      <th>P1</th>\n",
       "      <th>P5</th>\n",
       "      <th>Q1</th>\n",
       "      <th>Q2</th>\n",
       "      <th>Q3</th>\n",
       "      <th>P95</th>\n",
       "      <th>P99</th>\n",
       "      <th>Max</th>\n",
       "    </tr>\n",
       "  </thead>\n",
       "  <tbody>\n",
       "    <tr>\n",
       "      <th>Age</th>\n",
       "      <td>36.0</td>\n",
       "      <td>36.923810</td>\n",
       "      <td>9.133301</td>\n",
       "      <td>8.341719e+01</td>\n",
       "      <td>0.247355</td>\n",
       "      <td>18.0</td>\n",
       "      <td>19.0</td>\n",
       "      <td>24.0</td>\n",
       "      <td>30.0</td>\n",
       "      <td>36.0</td>\n",
       "      <td>43.0</td>\n",
       "      <td>54.0</td>\n",
       "      <td>58.91</td>\n",
       "      <td>60.0</td>\n",
       "    </tr>\n",
       "    <tr>\n",
       "      <th>DistanceFromHome</th>\n",
       "      <td>7.0</td>\n",
       "      <td>9.192517</td>\n",
       "      <td>8.105026</td>\n",
       "      <td>6.569144e+01</td>\n",
       "      <td>0.881698</td>\n",
       "      <td>1.0</td>\n",
       "      <td>1.0</td>\n",
       "      <td>1.0</td>\n",
       "      <td>2.0</td>\n",
       "      <td>7.0</td>\n",
       "      <td>14.0</td>\n",
       "      <td>26.0</td>\n",
       "      <td>29.00</td>\n",
       "      <td>29.0</td>\n",
       "    </tr>\n",
       "    <tr>\n",
       "      <th>MonthlyIncome</th>\n",
       "      <td>49190.0</td>\n",
       "      <td>65029.312925</td>\n",
       "      <td>47068.888559</td>\n",
       "      <td>2.215480e+09</td>\n",
       "      <td>0.723810</td>\n",
       "      <td>10090.0</td>\n",
       "      <td>13620.6</td>\n",
       "      <td>20970.0</td>\n",
       "      <td>29110.0</td>\n",
       "      <td>49190.0</td>\n",
       "      <td>83800.0</td>\n",
       "      <td>178560.0</td>\n",
       "      <td>196269.10</td>\n",
       "      <td>199990.0</td>\n",
       "    </tr>\n",
       "    <tr>\n",
       "      <th>TotalWorkingYears</th>\n",
       "      <td>10.0</td>\n",
       "      <td>11.279936</td>\n",
       "      <td>7.782222</td>\n",
       "      <td>6.056298e+01</td>\n",
       "      <td>0.689917</td>\n",
       "      <td>0.0</td>\n",
       "      <td>1.0</td>\n",
       "      <td>1.0</td>\n",
       "      <td>6.0</td>\n",
       "      <td>10.0</td>\n",
       "      <td>15.0</td>\n",
       "      <td>28.0</td>\n",
       "      <td>35.00</td>\n",
       "      <td>40.0</td>\n",
       "    </tr>\n",
       "    <tr>\n",
       "      <th>YearsAtCompany</th>\n",
       "      <td>5.0</td>\n",
       "      <td>7.008163</td>\n",
       "      <td>6.125135</td>\n",
       "      <td>3.751728e+01</td>\n",
       "      <td>0.874000</td>\n",
       "      <td>0.0</td>\n",
       "      <td>0.0</td>\n",
       "      <td>1.0</td>\n",
       "      <td>3.0</td>\n",
       "      <td>5.0</td>\n",
       "      <td>9.0</td>\n",
       "      <td>20.0</td>\n",
       "      <td>31.00</td>\n",
       "      <td>40.0</td>\n",
       "    </tr>\n",
       "  </tbody>\n",
       "</table>\n",
       "</div>"
      ],
      "text/plain": [
       "                    Median          Mean           Std           Var  \\\n",
       "Age                   36.0     36.923810      9.133301  8.341719e+01   \n",
       "DistanceFromHome       7.0      9.192517      8.105026  6.569144e+01   \n",
       "MonthlyIncome      49190.0  65029.312925  47068.888559  2.215480e+09   \n",
       "TotalWorkingYears     10.0     11.279936      7.782222  6.056298e+01   \n",
       "YearsAtCompany         5.0      7.008163      6.125135  3.751728e+01   \n",
       "\n",
       "                         CV      Min       P1       P5       Q1       Q2  \\\n",
       "Age                0.247355     18.0     19.0     24.0     30.0     36.0   \n",
       "DistanceFromHome   0.881698      1.0      1.0      1.0      2.0      7.0   \n",
       "MonthlyIncome      0.723810  10090.0  13620.6  20970.0  29110.0  49190.0   \n",
       "TotalWorkingYears  0.689917      0.0      1.0      1.0      6.0     10.0   \n",
       "YearsAtCompany     0.874000      0.0      0.0      1.0      3.0      5.0   \n",
       "\n",
       "                        Q3       P95        P99       Max  \n",
       "Age                   43.0      54.0      58.91      60.0  \n",
       "DistanceFromHome      14.0      26.0      29.00      29.0  \n",
       "MonthlyIncome      83800.0  178560.0  196269.10  199990.0  \n",
       "TotalWorkingYears     15.0      28.0      35.00      40.0  \n",
       "YearsAtCompany         9.0      20.0      31.00      40.0  "
      ]
     },
     "execution_count": 68,
     "metadata": {},
     "output_type": "execute_result"
    }
   ],
   "source": [
    "def var_summary(x):\n",
    "    return pd.Series([x.median(),x.mean(),x.std(),x.var(),x.std()/x.mean(),x.min(),x.dropna().quantile(0.01),x.dropna().quantile(0.05),x.dropna().quantile(0.25),x.dropna().quantile(0.50),x.dropna().quantile(0.75),x.dropna().quantile(0.95),x.dropna().quantile(0.99),x.max()],\n",
    "                    index=['Median','Mean','Std','Var','CV','Min','P1','P5','Q1','Q2','Q3','P95','P99','Max'])\n",
    "\n",
    "num_summary = data[continuous_feature].apply(var_summary).T\n",
    "\n",
    "# Exploring numerical Variable\n",
    "num_summary"
   ]
  },
  {
   "cell_type": "markdown",
   "metadata": {},
   "source": [
    "#### Distribution of continuous features"
   ]
  },
  {
   "cell_type": "code",
   "execution_count": 69,
   "metadata": {},
   "outputs": [
    {
     "data": {
      "image/png": "[encoded data removed]",
      "text/plain": [
       "<Figure size 864x432 with 5 Axes>"
      ]
     },
     "metadata": {
      "needs_background": "light"
     },
     "output_type": "display_data"
    }
   ],
   "source": [
    "# Distribution of the continuous feature\n",
    "plt.figure(figsize=(12,6))\n",
    "for i,feature in enumerate(continuous_feature):\n",
    "    dataset = data.copy()\n",
    "    plt.subplot(2,3,i+1)\n",
    "    plt.tight_layout()\n",
    "    dataset[feature].hist(bins=25,ec='k',color=\"dodgerblue\",grid=False)\n",
    "    plt.xlabel(feature)\n",
    "    plt.ylabel('Count')\n",
    "    plt.title(feature)\n",
    "    #plt.show()"
   ]
  },
  {
   "cell_type": "markdown",
   "metadata": {},
   "source": [
    "Most of the feature in the above diagram are **skewed**"
   ]
  },
  {
   "cell_type": "markdown",
   "metadata": {},
   "source": [
    "### Correlation of Numerical Variables"
   ]
  },
  {
   "cell_type": "code",
   "execution_count": 70,
   "metadata": {},
   "outputs": [
    {
     "data": {
      "image/png": "[encoded data removed]",
      "text/plain": [
       "<Figure size 720x432 with 2 Axes>"
      ]
     },
     "metadata": {
      "needs_background": "light"
     },
     "output_type": "display_data"
    }
   ],
   "source": [
    "corr = dataset[numerical_feature].corr()\n",
    "plt.figure(figsize=(10,6))\n",
    "ax = sns.heatmap(corr,vmin=-1,vmax=1,center=0,cmap=sns.diverging_palette(20,220,n=200),square=True)\n",
    "ax.set_xticklabels(\n",
    "    ax.get_xticklabels(),\n",
    "    rotation=-45,\n",
    "    horizontalalignment='left'\n",
    ");\n",
    "plt.title('Correlation Matrix')\n",
    "plt.show()"
   ]
  },
  {
   "cell_type": "markdown",
   "metadata": {},
   "source": [
    "We can see that there is significant correlation amoung variables."
   ]
  },
  {
   "cell_type": "markdown",
   "metadata": {},
   "source": [
    "#### Attrition in discrete features"
   ]
  },
  {
   "cell_type": "code",
   "execution_count": 71,
   "metadata": {},
   "outputs": [],
   "source": [
    "discrete_feature = [feature for feature in data.columns.difference(['EmployeeID','Attrition']) if len(data[feature].unique())<20 and data[feature].dtype!='O']"
   ]
  },
  {
   "cell_type": "code",
   "execution_count": 72,
   "metadata": {},
   "outputs": [
    {
     "data": {
      "image/png": "[encoded data removed]",
      "text/plain": [
       "<Figure size 864x864 with 5 Axes>"
      ]
     },
     "metadata": {
      "needs_background": "light"
     },
     "output_type": "display_data"
    }
   ],
   "source": [
    "plt.figure(figsize=(12,12))\n",
    "for i,feature in enumerate(discrete_feature):\n",
    "    dataset = data.copy()\n",
    "    plt.subplot(3,2,i+1)\n",
    "    plt.tight_layout()\n",
    "    sns.countplot(x=feature,hue='Attrition',data=dataset,palette='Blues',edgecolor='black')\n",
    "    plt.title(feature)\n",
    "    #plt.show()"
   ]
  },
  {
   "cell_type": "markdown",
   "metadata": {},
   "source": [
    "#### Attrition in categorical features"
   ]
  },
  {
   "cell_type": "code",
   "execution_count": 73,
   "metadata": {},
   "outputs": [],
   "source": [
    "categorical_feature = [feature for feature in data.columns.difference(['EmployeeID','Attrition']) if data[feature].dtype=='O']"
   ]
  },
  {
   "cell_type": "code",
   "execution_count": 74,
   "metadata": {},
   "outputs": [
    {
     "data": {
      "image/png": "[encoded data removed]",
      "text/plain": [
       "<Figure size 1296x2016 with 14 Axes>"
      ]
     },
     "metadata": {
      "needs_background": "light"
     },
     "output_type": "display_data"
    }
   ],
   "source": [
    "plt.figure(figsize=(18,28))\n",
    "for i,feature in enumerate(categorical_feature):\n",
    "    dataset = data.copy()\n",
    "    plt.subplot(7,2,i+1)\n",
    "    plt.tight_layout()\n",
    "    sns.countplot(x=feature,hue='Attrition',data=dataset,palette = \"Blues\",edgecolor='black')\n",
    "    plt.title(feature)\n",
    "    #plt.show()"
   ]
  },
  {
   "cell_type": "markdown",
   "metadata": {},
   "source": [
    "### Outliers"
   ]
  },
  {
   "cell_type": "code",
   "execution_count": 75,
   "metadata": {
    "scrolled": true
   },
   "outputs": [
    {
     "data": {
      "image/png": "[encoded data removed]",
      "text/plain": [
       "<Figure size 864x432 with 5 Axes>"
      ]
     },
     "metadata": {
      "needs_background": "light"
     },
     "output_type": "display_data"
    }
   ],
   "source": [
    "plt.figure(figsize=(12,6))\n",
    "for i,feature in enumerate(continuous_feature):\n",
    "    dataset = data.copy()\n",
    "    #dataset[feature] = np.log(dataset[feature])\n",
    "    plt.subplot(2,3,i+1)\n",
    "    plt.tight_layout()\n",
    "    dataset.boxplot(column=feature)\n",
    "    plt.ylabel(feature)\n",
    "    plt.title(feature)\n",
    "    #plt.show()"
   ]
  },
  {
   "cell_type": "markdown",
   "metadata": {},
   "source": [
    "We can observe that there are few outliers in some variables "
   ]
  },
  {
   "cell_type": "markdown",
   "metadata": {},
   "source": [
    "## Feature Engineering"
   ]
  },
  {
   "cell_type": "code",
   "execution_count": 76,
   "metadata": {},
   "outputs": [],
   "source": [
    "# Replacing Attrition with 1 else 0\n",
    "data['Attrition'] = np.where(data.Attrition=='Yes',1,0)"
   ]
  },
  {
   "cell_type": "markdown",
   "metadata": {},
   "source": [
    "### Missing Values"
   ]
  },
  {
   "cell_type": "code",
   "execution_count": 77,
   "metadata": {},
   "outputs": [
    {
     "data": {
      "text/plain": [
       "NumCompaniesWorked    0\n",
       "TotalWorkingYears     0\n",
       "dtype: int64"
      ]
     },
     "execution_count": 77,
     "metadata": {},
     "output_type": "execute_result"
    }
   ],
   "source": [
    "# For Numerical Variables\n",
    "def miss_treat(x):\n",
    "    x = x.fillna(x.median())\n",
    "    return x\n",
    "\n",
    "data[feature_with_na] = dataset[feature_with_na].apply(lambda x: miss_treat(x))\n",
    "data[feature_with_na].isnull().sum()"
   ]
  },
  {
   "cell_type": "code",
   "execution_count": 78,
   "metadata": {},
   "outputs": [],
   "source": [
    "# For Categorical Variables\n",
    "for feature in ['JobSatisfaction','EnvironmentSatisfaction','WorkLifeBalance']:\n",
    "    mode = data[feature].mode()[0]\n",
    "    data[feature].replace('nan',str(mode),inplace=True)"
   ]
  },
  {
   "cell_type": "markdown",
   "metadata": {},
   "source": [
    "### Outliers "
   ]
  },
  {
   "cell_type": "code",
   "execution_count": 79,
   "metadata": {},
   "outputs": [],
   "source": [
    "def outliers_treat(x):\n",
    "    x = x.clip(upper=x.quantile(0.95))\n",
    "    x = x.clip(lower=x.quantile(0.05))\n",
    "    return x\n",
    "\n",
    "data[continuous_feature] = data[continuous_feature].apply(lambda x: outliers_treat(x))"
   ]
  },
  {
   "cell_type": "markdown",
   "metadata": {},
   "source": [
    "### Checking for the Significance of Numerical Variables\n",
    "We will check the significance through **Weight of Evidence**"
   ]
  },
  {
   "cell_type": "code",
   "execution_count": 81,
   "metadata": {},
   "outputs": [
    {
     "data": {
      "image/png": "[encoded data removed]",
      "text/plain": [
       "<Figure size 864x720 with 5 Axes>"
      ]
     },
     "metadata": {
      "needs_background": "light"
     },
     "output_type": "display_data"
    }
   ],
   "source": [
    "plt.figure(figsize=(12,10))\n",
    "for i,feature in enumerate(continuous_feature):\n",
    "    binned = pd.cut(data[feature],bins=10,labels=list(range(1,11)))\n",
    "    odds = data.groupby(binned)['Attrition'].sum()/(data.groupby(binned)['Attrition'].count()-data.groupby(binned)['Attrition'].sum())\n",
    "    log_odds = np.log(odds)\n",
    "    #fig,axes = plt.subplots(figsize = (6,3))\n",
    "    plt.subplot(3,2,i+1)\n",
    "    plt.tight_layout()\n",
    "    sns.barplot(x=log_odds.index, y= log_odds,edgecolor='black')\n",
    "    plt.ylabel('Odds Ratio')\n",
    "    plt.xlabel(str(feature)+str(' Category'))\n",
    "    plt.title(str('Logit Plot of ') + str(feature))"
   ]
  },
  {
   "cell_type": "code",
   "execution_count": 82,
   "metadata": {},
   "outputs": [],
   "source": [
    "dis_cat_feature = categorical_feature + discrete_feature"
   ]
  },
  {
   "cell_type": "code",
   "execution_count": 83,
   "metadata": {},
   "outputs": [
    {
     "data": {
      "text/html": [
       "<div>\n",
       "<style scoped>\n",
       "    .dataframe tbody tr th:only-of-type {\n",
       "        vertical-align: middle;\n",
       "    }\n",
       "\n",
       "    .dataframe tbody tr th {\n",
       "        vertical-align: top;\n",
       "    }\n",
       "\n",
       "    .dataframe thead th {\n",
       "        text-align: right;\n",
       "    }\n",
       "</style>\n",
       "<table border=\"1\" class=\"dataframe\">\n",
       "  <thead>\n",
       "    <tr style=\"text-align: right;\">\n",
       "      <th></th>\n",
       "      <th>NumCompaniesWorked</th>\n",
       "      <th>PercentSalaryHike</th>\n",
       "      <th>TrainingTimesLastYear</th>\n",
       "      <th>YearsSinceLastPromotion</th>\n",
       "      <th>YearsWithCurrManager</th>\n",
       "    </tr>\n",
       "  </thead>\n",
       "  <tbody>\n",
       "    <tr>\n",
       "      <th>0</th>\n",
       "      <td>1.0</td>\n",
       "      <td>11</td>\n",
       "      <td>6</td>\n",
       "      <td>0</td>\n",
       "      <td>0</td>\n",
       "    </tr>\n",
       "    <tr>\n",
       "      <th>1</th>\n",
       "      <td>0.0</td>\n",
       "      <td>23</td>\n",
       "      <td>3</td>\n",
       "      <td>1</td>\n",
       "      <td>4</td>\n",
       "    </tr>\n",
       "    <tr>\n",
       "      <th>2</th>\n",
       "      <td>1.0</td>\n",
       "      <td>15</td>\n",
       "      <td>2</td>\n",
       "      <td>0</td>\n",
       "      <td>3</td>\n",
       "    </tr>\n",
       "    <tr>\n",
       "      <th>3</th>\n",
       "      <td>3.0</td>\n",
       "      <td>11</td>\n",
       "      <td>5</td>\n",
       "      <td>7</td>\n",
       "      <td>5</td>\n",
       "    </tr>\n",
       "    <tr>\n",
       "      <th>4</th>\n",
       "      <td>4.0</td>\n",
       "      <td>12</td>\n",
       "      <td>2</td>\n",
       "      <td>0</td>\n",
       "      <td>4</td>\n",
       "    </tr>\n",
       "  </tbody>\n",
       "</table>\n",
       "</div>"
      ],
      "text/plain": [
       "   NumCompaniesWorked  PercentSalaryHike  TrainingTimesLastYear  \\\n",
       "0                 1.0                 11                      6   \n",
       "1                 0.0                 23                      3   \n",
       "2                 1.0                 15                      2   \n",
       "3                 3.0                 11                      5   \n",
       "4                 4.0                 12                      2   \n",
       "\n",
       "   YearsSinceLastPromotion  YearsWithCurrManager  \n",
       "0                        0                     0  \n",
       "1                        1                     4  \n",
       "2                        0                     3  \n",
       "3                        7                     5  \n",
       "4                        0                     4  "
      ]
     },
     "execution_count": 83,
     "metadata": {},
     "output_type": "execute_result"
    }
   ],
   "source": [
    "data[discrete_feature].head()"
   ]
  },
  {
   "cell_type": "markdown",
   "metadata": {},
   "source": [
    "### Checking for the Significance of Categorical Variables\n",
    "We will check the significance through **Weight of Evidence**"
   ]
  },
  {
   "cell_type": "code",
   "execution_count": 85,
   "metadata": {},
   "outputs": [
    {
     "data": {
      "image/png": "[encoded data removed]",
      "text/plain": [
       "<Figure size 864x2376 with 19 Axes>"
      ]
     },
     "metadata": {
      "needs_background": "light"
     },
     "output_type": "display_data"
    }
   ],
   "source": [
    "plt.figure(figsize=(12,33))\n",
    "for i,feature in enumerate(dis_cat_feature):\n",
    "    odds = data.groupby(feature)['Attrition'].sum()/(data.groupby(feature)['Attrition'].count()-data.groupby(feature)['Attrition'].sum())\n",
    "    log_odds = np.log(odds)\n",
    "    #fig,axes = plt.subplots(figsize=(6,3))\n",
    "    plt.subplot(10,2,i+1)\n",
    "    plt.tight_layout()\n",
    "    sns.barplot(x=log_odds.index, y=log_odds,edgecolor='black')\n",
    "    plt.ylabel('Log Odds Ratio')\n",
    "    plt.xlabel(str(feature)+str(' Category'))\n",
    "    plt.title(str('Logit plot of ') + str(feature))"
   ]
  },
  {
   "cell_type": "markdown",
   "metadata": {},
   "source": [
    "### Reducing variables based on WoE\n",
    "We need to drop some variables which does not generate value and are insignificant."
   ]
  },
  {
   "cell_type": "code",
   "execution_count": 86,
   "metadata": {},
   "outputs": [],
   "source": [
    "# Variables to be dropped\n",
    "data.drop(columns=['PerformanceRating','Gender','JobLevel','Education','StockOptionLevel','JobRole'], inplace=True)"
   ]
  },
  {
   "cell_type": "markdown",
   "metadata": {},
   "source": [
    "### Grouping Continuous based on WoE"
   ]
  },
  {
   "cell_type": "code",
   "execution_count": 87,
   "metadata": {},
   "outputs": [],
   "source": [
    "# Continuous Variables\n",
    "for feature in ['Age','TotalWorkingYears','YearsAtCompany']:\n",
    "    data[feature] = pd.cut(data[feature], bins=10,labels= list(range(1,11)))\n",
    "    data[feature] = data[feature].astype(int).astype(str)"
   ]
  },
  {
   "cell_type": "code",
   "execution_count": 88,
   "metadata": {},
   "outputs": [],
   "source": [
    "# Grouping countinuous variables into categories\n",
    "data['Age'] = data['Age'].map({'1':'Low','2':'Low','3':'Low','4':'Avg','5':'Avg','6':'Avg','7':'High','8':'High','9':'High','10':'High'})\n",
    "data['TotalWorkingYears'] = data['TotalWorkingYears'].map({'1':'Low','2':'Below_Avg','3':'Below_Avg','4':'Below_Avg','5':'Avg','6':'Avg','7':'Avg','8':'High','9':'High','10':'High'}) \n",
    "data['YearsAtCompany'] = data['YearsAtCompany'].map({'1':'Low','2':'Below_Avg','3':'Below_Avg','4':'Below_Avg','5':'Below_Avg','6':'Avg','7':'High','8':'High','9':'High','10':'High'}) "
   ]
  },
  {
   "cell_type": "markdown",
   "metadata": {},
   "source": [
    "### Grouping Discrete Variable based on WoE"
   ]
  },
  {
   "cell_type": "code",
   "execution_count": 89,
   "metadata": {},
   "outputs": [],
   "source": [
    "# Discrete Variables\n",
    "for feature in ['NumCompaniesWorked','TrainingTimesLastYear']:\n",
    "    data[feature] = data[feature].astype(int).astype(str)"
   ]
  },
  {
   "cell_type": "code",
   "execution_count": 90,
   "metadata": {},
   "outputs": [],
   "source": [
    "# Grouping Discrete variables into categories\n",
    "data['NumCompaniesWorked'] = data.NumCompaniesWorked.map({'0':'Very_Low','1':'Low','2':'Below_Avg','3':'Below_Avg','4':'Below_Avg','5':'Avg','6':'Avg','7':'Avg','8':'High','9':'Very_High'})\n",
    "data['TrainingTimesLastYear'] = data.TrainingTimesLastYear.map({'0':'Low','1':'Low','2':'Low','3':'Low','4':'Low','5':'Low','6':'High'})  "
   ]
  },
  {
   "cell_type": "code",
   "execution_count": 91,
   "metadata": {},
   "outputs": [],
   "source": [
    "def group_var(x):\n",
    "    if (x==0):\n",
    "        val = 1\n",
    "    elif (x>0)&(x<11):\n",
    "        val=2\n",
    "    elif (x==11):\n",
    "        val=3\n",
    "    else:\n",
    "        val=4\n",
    "    return val"
   ]
  },
  {
   "cell_type": "code",
   "execution_count": 92,
   "metadata": {},
   "outputs": [],
   "source": [
    "data['YearsWithCurrManager'] = data.YearsWithCurrManager.apply(group_var)"
   ]
  },
  {
   "cell_type": "markdown",
   "metadata": {},
   "source": [
    "### Grouping Categorical Variable based on WoE"
   ]
  },
  {
   "cell_type": "code",
   "execution_count": 93,
   "metadata": {},
   "outputs": [],
   "source": [
    "# Grouping Categorical variables \n",
    "data['Department'] = data.Department.map({'Human Resources':'HR','Research & Development':'RnD_Sales','Sales':'RnD_Sales'})\n",
    "data['EducationField'] = data.EducationField.map({'Human Resources':'HR','Life Sciences':'LS_M_M', 'Medical':'LS_M_M', 'Marketing':'LS_M_M','Technical Degree':'oth_TD','Other':'oth_TD'})\n",
    "data['MaritalStatus'] = data.MaritalStatus.map({'Married':'Married_Once','Divorced':'Married_Once','Single':'Single'})\n"
   ]
  },
  {
   "cell_type": "markdown",
   "metadata": {},
   "source": [
    "### Encoding Categorical Variables"
   ]
  },
  {
   "cell_type": "code",
   "execution_count": 94,
   "metadata": {},
   "outputs": [],
   "source": [
    "# Ordinal Encoding\n",
    "data['BusinessTravel'] = data.BusinessTravel.map({'Non-Travel':1,'Travel_Rarely':2,'Travel_Frequently':3})"
   ]
  },
  {
   "cell_type": "code",
   "execution_count": 95,
   "metadata": {},
   "outputs": [],
   "source": [
    "# One-Hot Encoding Encoding\n",
    "dummies_col = ['Age','YearsAtCompany','TotalWorkingYears','Department','EducationField','TrainingTimesLastYear','YearsWithCurrManager','MaritalStatus','NumCompaniesWorked']"
   ]
  },
  {
   "cell_type": "code",
   "execution_count": 96,
   "metadata": {},
   "outputs": [],
   "source": [
    "data = pd.get_dummies(columns=dummies_col, data = data, drop_first=True)"
   ]
  },
  {
   "cell_type": "code",
   "execution_count": 97,
   "metadata": {},
   "outputs": [],
   "source": [
    "for feature in data.columns.difference(['Attrition']):\n",
    "    data[feature] = data[feature].astype(float)\n",
    "  "
   ]
  },
  {
   "cell_type": "markdown",
   "metadata": {},
   "source": [
    "### Variable Reduction using Somers' D\n",
    "We will reduce the variables through **univariate analysis**. We will calculate **probability** through logistic regression and then calculate metrics based on the probability. Here we will calculate **Somers' D**."
   ]
  },
  {
   "cell_type": "code",
   "execution_count": 98,
   "metadata": {},
   "outputs": [],
   "source": [
    "import statsmodels.formula.api as sm"
   ]
  },
  {
   "cell_type": "code",
   "execution_count": 99,
   "metadata": {},
   "outputs": [],
   "source": [
    "from sklearn import metrics"
   ]
  },
  {
   "cell_type": "code",
   "execution_count": 100,
   "metadata": {
    "scrolled": false
   },
   "outputs": [
    {
     "name": "stdout",
     "output_type": "stream",
     "text": [
      "Optimization terminated successfully.\n",
      "         Current function value: 0.438924\n",
      "         Iterations 6\n",
      "Optimization terminated successfully.\n",
      "         Current function value: 0.425233\n",
      "         Iterations 6\n",
      "Optimization terminated successfully.\n",
      "         Current function value: 0.433625\n",
      "         Iterations 6\n",
      "Optimization terminated successfully.\n",
      "         Current function value: 0.438941\n",
      "         Iterations 6\n",
      "Optimization terminated successfully.\n",
      "         Current function value: 0.441643\n",
      "         Iterations 5\n",
      "Optimization terminated successfully.\n",
      "         Current function value: 0.441591\n",
      "         Iterations 6\n",
      "Optimization terminated successfully.\n",
      "         Current function value: 0.440363\n",
      "         Iterations 6\n",
      "Optimization terminated successfully.\n",
      "         Current function value: 0.436600\n",
      "         Iterations 6\n",
      "Optimization terminated successfully.\n",
      "         Current function value: 0.441574\n",
      "         Iterations 6\n",
      "Optimization terminated successfully.\n",
      "         Current function value: 0.436360\n",
      "         Iterations 6\n",
      "Optimization terminated successfully.\n",
      "         Current function value: 0.427152\n",
      "         Iterations 6\n",
      "Optimization terminated successfully.\n",
      "         Current function value: 0.441213\n",
      "         Iterations 6\n",
      "Optimization terminated successfully.\n",
      "         Current function value: 0.437432\n",
      "         Iterations 6\n",
      "Optimization terminated successfully.\n",
      "         Current function value: 0.441489\n",
      "         Iterations 6\n",
      "Optimization terminated successfully.\n",
      "         Current function value: 0.440266\n",
      "         Iterations 6\n",
      "Optimization terminated successfully.\n",
      "         Current function value: 0.441099\n",
      "         Iterations 6\n",
      "Optimization terminated successfully.\n",
      "         Current function value: 0.440547\n",
      "         Iterations 6\n",
      "Optimization terminated successfully.\n",
      "         Current function value: 0.441174\n",
      "         Iterations 6\n",
      "Optimization terminated successfully.\n",
      "         Current function value: 0.441671\n",
      "         Iterations 6\n",
      "Optimization terminated successfully.\n",
      "         Current function value: 0.435728\n",
      "         Iterations 6\n",
      "Optimization terminated successfully.\n",
      "         Current function value: 0.423474\n",
      "         Iterations 6\n",
      "Optimization terminated successfully.\n",
      "         Current function value: 0.439581\n",
      "         Iterations 7\n",
      "Optimization terminated successfully.\n",
      "         Current function value: 0.439750\n",
      "         Iterations 6\n",
      "Optimization terminated successfully.\n",
      "         Current function value: 0.436512\n",
      "         Iterations 6\n",
      "Optimization terminated successfully.\n",
      "         Current function value: 0.438348\n",
      "         Iterations 6\n",
      "Optimization terminated successfully.\n",
      "         Current function value: 0.422842\n",
      "         Iterations 6\n",
      "Optimization terminated successfully.\n",
      "         Current function value: 0.441126\n",
      "         Iterations 6\n",
      "Optimization terminated successfully.\n",
      "         Current function value: 0.431544\n",
      "         Iterations 6\n",
      "Optimization terminated successfully.\n",
      "         Current function value: 0.440698\n",
      "         Iterations 7\n",
      "Optimization terminated successfully.\n",
      "         Current function value: 0.439023\n",
      "         Iterations 7\n"
     ]
    }
   ],
   "source": [
    "sommerd_df = pd.DataFrame()\n",
    "for feature in data.columns.difference(['Attrition']):\n",
    "    log_reg = sm.logit(formula=str('Attrition~')+str(feature), data=data)\n",
    "    result = log_reg.fit()\n",
    "    y_score = pd.DataFrame(result.predict())\n",
    "    y_score.columns = ['Score']\n",
    "    sommers_d = 2*metrics.roc_auc_score(data['Attrition'],y_score)-1\n",
    "    temp = pd.DataFrame([feature,sommers_d]).T\n",
    "    temp.columns = ['Feature Name','SommersD']\n",
    "    sommerd_df = pd.concat([sommerd_df,temp], axis=0)"
   ]
  },
  {
   "cell_type": "markdown",
   "metadata": {},
   "source": [
    "We will select features with high **Somers' D**"
   ]
  },
  {
   "cell_type": "code",
   "execution_count": 101,
   "metadata": {},
   "outputs": [
    {
     "data": {
      "text/html": [
       "<div>\n",
       "<style scoped>\n",
       "    .dataframe tbody tr th:only-of-type {\n",
       "        vertical-align: middle;\n",
       "    }\n",
       "\n",
       "    .dataframe tbody tr th {\n",
       "        vertical-align: top;\n",
       "    }\n",
       "\n",
       "    .dataframe thead th {\n",
       "        text-align: right;\n",
       "    }\n",
       "</style>\n",
       "<table border=\"1\" class=\"dataframe\">\n",
       "  <thead>\n",
       "    <tr style=\"text-align: right;\">\n",
       "      <th></th>\n",
       "      <th>Feature Name</th>\n",
       "      <th>SommersD</th>\n",
       "    </tr>\n",
       "  </thead>\n",
       "  <tbody>\n",
       "    <tr>\n",
       "      <th>0</th>\n",
       "      <td>Age_Low</td>\n",
       "      <td>0.243761</td>\n",
       "    </tr>\n",
       "    <tr>\n",
       "      <th>0</th>\n",
       "      <td>YearsAtCompany_Low</td>\n",
       "      <td>0.235733</td>\n",
       "    </tr>\n",
       "    <tr>\n",
       "      <th>0</th>\n",
       "      <td>MaritalStatus_Single</td>\n",
       "      <td>0.222469</td>\n",
       "    </tr>\n",
       "    <tr>\n",
       "      <th>0</th>\n",
       "      <td>TotalWorkingYears_Low</td>\n",
       "      <td>0.181691</td>\n",
       "    </tr>\n",
       "    <tr>\n",
       "      <th>0</th>\n",
       "      <td>YearsWithCurrManager_2</td>\n",
       "      <td>0.170173</td>\n",
       "    </tr>\n",
       "  </tbody>\n",
       "</table>\n",
       "</div>"
      ],
      "text/plain": [
       "             Feature Name  SommersD\n",
       "0                 Age_Low  0.243761\n",
       "0      YearsAtCompany_Low  0.235733\n",
       "0    MaritalStatus_Single  0.222469\n",
       "0   TotalWorkingYears_Low  0.181691\n",
       "0  YearsWithCurrManager_2  0.170173"
      ]
     },
     "execution_count": 101,
     "metadata": {},
     "output_type": "execute_result"
    }
   ],
   "source": [
    "sd_values = sommerd_df.sort_values(by='SommersD', ascending=False)\n",
    "sd_values.head()"
   ]
  },
  {
   "cell_type": "markdown",
   "metadata": {},
   "source": [
    "### Variance Inflation Factor \n",
    "We will use vif to check for multicollinearity in the data."
   ]
  },
  {
   "cell_type": "code",
   "execution_count": 102,
   "metadata": {},
   "outputs": [],
   "source": [
    "from patsy import dmatrices"
   ]
  },
  {
   "cell_type": "code",
   "execution_count": 103,
   "metadata": {},
   "outputs": [],
   "source": [
    "from statsmodels.stats.outliers_influence import variance_inflation_factor"
   ]
  },
  {
   "cell_type": "code",
   "execution_count": 104,
   "metadata": {
    "scrolled": true
   },
   "outputs": [
    {
     "data": {
      "text/html": [
       "<div>\n",
       "<style scoped>\n",
       "    .dataframe tbody tr th:only-of-type {\n",
       "        vertical-align: middle;\n",
       "    }\n",
       "\n",
       "    .dataframe tbody tr th {\n",
       "        vertical-align: top;\n",
       "    }\n",
       "\n",
       "    .dataframe thead th {\n",
       "        text-align: right;\n",
       "    }\n",
       "</style>\n",
       "<table border=\"1\" class=\"dataframe\">\n",
       "  <thead>\n",
       "    <tr style=\"text-align: right;\">\n",
       "      <th></th>\n",
       "      <th>Attrition</th>\n",
       "      <th>BusinessTravel</th>\n",
       "      <th>DistanceFromHome</th>\n",
       "      <th>MonthlyIncome</th>\n",
       "      <th>PercentSalaryHike</th>\n",
       "      <th>YearsSinceLastPromotion</th>\n",
       "      <th>EnvironmentSatisfaction</th>\n",
       "      <th>JobSatisfaction</th>\n",
       "      <th>WorkLifeBalance</th>\n",
       "      <th>JobInvolvement</th>\n",
       "      <th>Age_High</th>\n",
       "      <th>Age_Low</th>\n",
       "      <th>YearsAtCompany_Below_Avg</th>\n",
       "      <th>YearsAtCompany_High</th>\n",
       "      <th>YearsAtCompany_Low</th>\n",
       "      <th>TotalWorkingYears_Below_Avg</th>\n",
       "      <th>TotalWorkingYears_High</th>\n",
       "      <th>TotalWorkingYears_Low</th>\n",
       "      <th>Department_RnD_Sales</th>\n",
       "      <th>EducationField_LS_M_M</th>\n",
       "      <th>EducationField_oth_TD</th>\n",
       "      <th>TrainingTimesLastYear_Low</th>\n",
       "      <th>YearsWithCurrManager_2</th>\n",
       "      <th>YearsWithCurrManager_3</th>\n",
       "      <th>YearsWithCurrManager_4</th>\n",
       "      <th>MaritalStatus_Single</th>\n",
       "      <th>NumCompaniesWorked_Below_Avg</th>\n",
       "      <th>NumCompaniesWorked_High</th>\n",
       "      <th>NumCompaniesWorked_Low</th>\n",
       "      <th>NumCompaniesWorked_Very_High</th>\n",
       "      <th>NumCompaniesWorked_Very_Low</th>\n",
       "    </tr>\n",
       "  </thead>\n",
       "  <tbody>\n",
       "    <tr>\n",
       "      <th>0</th>\n",
       "      <td>0</td>\n",
       "      <td>2.0</td>\n",
       "      <td>6.0</td>\n",
       "      <td>131160.0</td>\n",
       "      <td>11.0</td>\n",
       "      <td>0.0</td>\n",
       "      <td>3.0</td>\n",
       "      <td>4.0</td>\n",
       "      <td>2.0</td>\n",
       "      <td>3.0</td>\n",
       "      <td>1.0</td>\n",
       "      <td>0.0</td>\n",
       "      <td>0.0</td>\n",
       "      <td>0.0</td>\n",
       "      <td>1.0</td>\n",
       "      <td>0.0</td>\n",
       "      <td>0.0</td>\n",
       "      <td>1.0</td>\n",
       "      <td>1.0</td>\n",
       "      <td>1.0</td>\n",
       "      <td>0.0</td>\n",
       "      <td>0.0</td>\n",
       "      <td>0.0</td>\n",
       "      <td>0.0</td>\n",
       "      <td>0.0</td>\n",
       "      <td>0.0</td>\n",
       "      <td>0.0</td>\n",
       "      <td>0.0</td>\n",
       "      <td>1.0</td>\n",
       "      <td>0.0</td>\n",
       "      <td>0.0</td>\n",
       "    </tr>\n",
       "    <tr>\n",
       "      <th>1</th>\n",
       "      <td>1</td>\n",
       "      <td>3.0</td>\n",
       "      <td>10.0</td>\n",
       "      <td>41890.0</td>\n",
       "      <td>23.0</td>\n",
       "      <td>1.0</td>\n",
       "      <td>3.0</td>\n",
       "      <td>2.0</td>\n",
       "      <td>4.0</td>\n",
       "      <td>2.0</td>\n",
       "      <td>0.0</td>\n",
       "      <td>1.0</td>\n",
       "      <td>1.0</td>\n",
       "      <td>0.0</td>\n",
       "      <td>0.0</td>\n",
       "      <td>1.0</td>\n",
       "      <td>0.0</td>\n",
       "      <td>0.0</td>\n",
       "      <td>1.0</td>\n",
       "      <td>1.0</td>\n",
       "      <td>0.0</td>\n",
       "      <td>1.0</td>\n",
       "      <td>1.0</td>\n",
       "      <td>0.0</td>\n",
       "      <td>0.0</td>\n",
       "      <td>1.0</td>\n",
       "      <td>0.0</td>\n",
       "      <td>0.0</td>\n",
       "      <td>0.0</td>\n",
       "      <td>0.0</td>\n",
       "      <td>1.0</td>\n",
       "    </tr>\n",
       "    <tr>\n",
       "      <th>2</th>\n",
       "      <td>0</td>\n",
       "      <td>3.0</td>\n",
       "      <td>17.0</td>\n",
       "      <td>178560.0</td>\n",
       "      <td>15.0</td>\n",
       "      <td>0.0</td>\n",
       "      <td>2.0</td>\n",
       "      <td>2.0</td>\n",
       "      <td>1.0</td>\n",
       "      <td>3.0</td>\n",
       "      <td>0.0</td>\n",
       "      <td>1.0</td>\n",
       "      <td>1.0</td>\n",
       "      <td>0.0</td>\n",
       "      <td>0.0</td>\n",
       "      <td>1.0</td>\n",
       "      <td>0.0</td>\n",
       "      <td>0.0</td>\n",
       "      <td>1.0</td>\n",
       "      <td>0.0</td>\n",
       "      <td>1.0</td>\n",
       "      <td>1.0</td>\n",
       "      <td>1.0</td>\n",
       "      <td>0.0</td>\n",
       "      <td>0.0</td>\n",
       "      <td>0.0</td>\n",
       "      <td>0.0</td>\n",
       "      <td>0.0</td>\n",
       "      <td>1.0</td>\n",
       "      <td>0.0</td>\n",
       "      <td>0.0</td>\n",
       "    </tr>\n",
       "    <tr>\n",
       "      <th>3</th>\n",
       "      <td>0</td>\n",
       "      <td>1.0</td>\n",
       "      <td>2.0</td>\n",
       "      <td>83210.0</td>\n",
       "      <td>11.0</td>\n",
       "      <td>7.0</td>\n",
       "      <td>4.0</td>\n",
       "      <td>4.0</td>\n",
       "      <td>3.0</td>\n",
       "      <td>2.0</td>\n",
       "      <td>0.0</td>\n",
       "      <td>0.0</td>\n",
       "      <td>1.0</td>\n",
       "      <td>0.0</td>\n",
       "      <td>0.0</td>\n",
       "      <td>0.0</td>\n",
       "      <td>0.0</td>\n",
       "      <td>0.0</td>\n",
       "      <td>1.0</td>\n",
       "      <td>1.0</td>\n",
       "      <td>0.0</td>\n",
       "      <td>1.0</td>\n",
       "      <td>1.0</td>\n",
       "      <td>0.0</td>\n",
       "      <td>0.0</td>\n",
       "      <td>0.0</td>\n",
       "      <td>1.0</td>\n",
       "      <td>0.0</td>\n",
       "      <td>0.0</td>\n",
       "      <td>0.0</td>\n",
       "      <td>0.0</td>\n",
       "    </tr>\n",
       "    <tr>\n",
       "      <th>4</th>\n",
       "      <td>0</td>\n",
       "      <td>2.0</td>\n",
       "      <td>10.0</td>\n",
       "      <td>23420.0</td>\n",
       "      <td>12.0</td>\n",
       "      <td>0.0</td>\n",
       "      <td>4.0</td>\n",
       "      <td>1.0</td>\n",
       "      <td>3.0</td>\n",
       "      <td>3.0</td>\n",
       "      <td>0.0</td>\n",
       "      <td>1.0</td>\n",
       "      <td>1.0</td>\n",
       "      <td>0.0</td>\n",
       "      <td>0.0</td>\n",
       "      <td>1.0</td>\n",
       "      <td>0.0</td>\n",
       "      <td>0.0</td>\n",
       "      <td>1.0</td>\n",
       "      <td>1.0</td>\n",
       "      <td>0.0</td>\n",
       "      <td>1.0</td>\n",
       "      <td>1.0</td>\n",
       "      <td>0.0</td>\n",
       "      <td>0.0</td>\n",
       "      <td>1.0</td>\n",
       "      <td>1.0</td>\n",
       "      <td>0.0</td>\n",
       "      <td>0.0</td>\n",
       "      <td>0.0</td>\n",
       "      <td>0.0</td>\n",
       "    </tr>\n",
       "  </tbody>\n",
       "</table>\n",
       "</div>"
      ],
      "text/plain": [
       "   Attrition  BusinessTravel  DistanceFromHome  MonthlyIncome  \\\n",
       "0          0             2.0               6.0       131160.0   \n",
       "1          1             3.0              10.0        41890.0   \n",
       "2          0             3.0              17.0       178560.0   \n",
       "3          0             1.0               2.0        83210.0   \n",
       "4          0             2.0              10.0        23420.0   \n",
       "\n",
       "   PercentSalaryHike  YearsSinceLastPromotion  EnvironmentSatisfaction  \\\n",
       "0               11.0                      0.0                      3.0   \n",
       "1               23.0                      1.0                      3.0   \n",
       "2               15.0                      0.0                      2.0   \n",
       "3               11.0                      7.0                      4.0   \n",
       "4               12.0                      0.0                      4.0   \n",
       "\n",
       "   JobSatisfaction  WorkLifeBalance  JobInvolvement  Age_High  Age_Low  \\\n",
       "0              4.0              2.0             3.0       1.0      0.0   \n",
       "1              2.0              4.0             2.0       0.0      1.0   \n",
       "2              2.0              1.0             3.0       0.0      1.0   \n",
       "3              4.0              3.0             2.0       0.0      0.0   \n",
       "4              1.0              3.0             3.0       0.0      1.0   \n",
       "\n",
       "   YearsAtCompany_Below_Avg  YearsAtCompany_High  YearsAtCompany_Low  \\\n",
       "0                       0.0                  0.0                 1.0   \n",
       "1                       1.0                  0.0                 0.0   \n",
       "2                       1.0                  0.0                 0.0   \n",
       "3                       1.0                  0.0                 0.0   \n",
       "4                       1.0                  0.0                 0.0   \n",
       "\n",
       "   TotalWorkingYears_Below_Avg  TotalWorkingYears_High  TotalWorkingYears_Low  \\\n",
       "0                          0.0                     0.0                    1.0   \n",
       "1                          1.0                     0.0                    0.0   \n",
       "2                          1.0                     0.0                    0.0   \n",
       "3                          0.0                     0.0                    0.0   \n",
       "4                          1.0                     0.0                    0.0   \n",
       "\n",
       "   Department_RnD_Sales  EducationField_LS_M_M  EducationField_oth_TD  \\\n",
       "0                   1.0                    1.0                    0.0   \n",
       "1                   1.0                    1.0                    0.0   \n",
       "2                   1.0                    0.0                    1.0   \n",
       "3                   1.0                    1.0                    0.0   \n",
       "4                   1.0                    1.0                    0.0   \n",
       "\n",
       "   TrainingTimesLastYear_Low  YearsWithCurrManager_2  YearsWithCurrManager_3  \\\n",
       "0                        0.0                     0.0                     0.0   \n",
       "1                        1.0                     1.0                     0.0   \n",
       "2                        1.0                     1.0                     0.0   \n",
       "3                        1.0                     1.0                     0.0   \n",
       "4                        1.0                     1.0                     0.0   \n",
       "\n",
       "   YearsWithCurrManager_4  MaritalStatus_Single  NumCompaniesWorked_Below_Avg  \\\n",
       "0                     0.0                   0.0                           0.0   \n",
       "1                     0.0                   1.0                           0.0   \n",
       "2                     0.0                   0.0                           0.0   \n",
       "3                     0.0                   0.0                           1.0   \n",
       "4                     0.0                   1.0                           1.0   \n",
       "\n",
       "   NumCompaniesWorked_High  NumCompaniesWorked_Low  \\\n",
       "0                      0.0                     1.0   \n",
       "1                      0.0                     0.0   \n",
       "2                      0.0                     1.0   \n",
       "3                      0.0                     0.0   \n",
       "4                      0.0                     0.0   \n",
       "\n",
       "   NumCompaniesWorked_Very_High  NumCompaniesWorked_Very_Low  \n",
       "0                           0.0                          0.0  \n",
       "1                           0.0                          1.0  \n",
       "2                           0.0                          0.0  \n",
       "3                           0.0                          0.0  \n",
       "4                           0.0                          0.0  "
      ]
     },
     "execution_count": 104,
     "metadata": {},
     "output_type": "execute_result"
    }
   ],
   "source": [
    "data.head()"
   ]
  },
  {
   "cell_type": "code",
   "execution_count": 105,
   "metadata": {},
   "outputs": [
    {
     "data": {
      "text/html": [
       "<div>\n",
       "<style scoped>\n",
       "    .dataframe tbody tr th:only-of-type {\n",
       "        vertical-align: middle;\n",
       "    }\n",
       "\n",
       "    .dataframe tbody tr th {\n",
       "        vertical-align: top;\n",
       "    }\n",
       "\n",
       "    .dataframe thead th {\n",
       "        text-align: right;\n",
       "    }\n",
       "</style>\n",
       "<table border=\"1\" class=\"dataframe\">\n",
       "  <thead>\n",
       "    <tr style=\"text-align: right;\">\n",
       "      <th></th>\n",
       "      <th>Age_High</th>\n",
       "      <th>Age_Low</th>\n",
       "      <th>BusinessTravel</th>\n",
       "      <th>Department_RnD_Sales</th>\n",
       "      <th>DistanceFromHome</th>\n",
       "      <th>EducationField_LS_M_M</th>\n",
       "      <th>EducationField_oth_TD</th>\n",
       "      <th>EnvironmentSatisfaction</th>\n",
       "      <th>JobInvolvement</th>\n",
       "      <th>JobSatisfaction</th>\n",
       "      <th>MaritalStatus_Single</th>\n",
       "      <th>MonthlyIncome</th>\n",
       "      <th>NumCompaniesWorked_Below_Avg</th>\n",
       "      <th>NumCompaniesWorked_High</th>\n",
       "      <th>NumCompaniesWorked_Low</th>\n",
       "      <th>NumCompaniesWorked_Very_High</th>\n",
       "      <th>NumCompaniesWorked_Very_Low</th>\n",
       "      <th>PercentSalaryHike</th>\n",
       "      <th>TotalWorkingYears_Below_Avg</th>\n",
       "      <th>TotalWorkingYears_High</th>\n",
       "      <th>TotalWorkingYears_Low</th>\n",
       "      <th>TrainingTimesLastYear_Low</th>\n",
       "      <th>WorkLifeBalance</th>\n",
       "      <th>YearsAtCompany_Below_Avg</th>\n",
       "      <th>YearsAtCompany_High</th>\n",
       "      <th>YearsAtCompany_Low</th>\n",
       "      <th>YearsSinceLastPromotion</th>\n",
       "      <th>YearsWithCurrManager_2</th>\n",
       "      <th>YearsWithCurrManager_3</th>\n",
       "      <th>YearsWithCurrManager_4</th>\n",
       "      <th>Attrition</th>\n",
       "    </tr>\n",
       "  </thead>\n",
       "  <tbody>\n",
       "    <tr>\n",
       "      <th>0</th>\n",
       "      <td>1.0</td>\n",
       "      <td>0.0</td>\n",
       "      <td>2.0</td>\n",
       "      <td>1.0</td>\n",
       "      <td>6.0</td>\n",
       "      <td>1.0</td>\n",
       "      <td>0.0</td>\n",
       "      <td>3.0</td>\n",
       "      <td>3.0</td>\n",
       "      <td>4.0</td>\n",
       "      <td>0.0</td>\n",
       "      <td>131160.0</td>\n",
       "      <td>0.0</td>\n",
       "      <td>0.0</td>\n",
       "      <td>1.0</td>\n",
       "      <td>0.0</td>\n",
       "      <td>0.0</td>\n",
       "      <td>11.0</td>\n",
       "      <td>0.0</td>\n",
       "      <td>0.0</td>\n",
       "      <td>1.0</td>\n",
       "      <td>0.0</td>\n",
       "      <td>2.0</td>\n",
       "      <td>0.0</td>\n",
       "      <td>0.0</td>\n",
       "      <td>1.0</td>\n",
       "      <td>0.0</td>\n",
       "      <td>0.0</td>\n",
       "      <td>0.0</td>\n",
       "      <td>0.0</td>\n",
       "      <td>0</td>\n",
       "    </tr>\n",
       "    <tr>\n",
       "      <th>1</th>\n",
       "      <td>0.0</td>\n",
       "      <td>1.0</td>\n",
       "      <td>3.0</td>\n",
       "      <td>1.0</td>\n",
       "      <td>10.0</td>\n",
       "      <td>1.0</td>\n",
       "      <td>0.0</td>\n",
       "      <td>3.0</td>\n",
       "      <td>2.0</td>\n",
       "      <td>2.0</td>\n",
       "      <td>1.0</td>\n",
       "      <td>41890.0</td>\n",
       "      <td>0.0</td>\n",
       "      <td>0.0</td>\n",
       "      <td>0.0</td>\n",
       "      <td>0.0</td>\n",
       "      <td>1.0</td>\n",
       "      <td>23.0</td>\n",
       "      <td>1.0</td>\n",
       "      <td>0.0</td>\n",
       "      <td>0.0</td>\n",
       "      <td>1.0</td>\n",
       "      <td>4.0</td>\n",
       "      <td>1.0</td>\n",
       "      <td>0.0</td>\n",
       "      <td>0.0</td>\n",
       "      <td>1.0</td>\n",
       "      <td>1.0</td>\n",
       "      <td>0.0</td>\n",
       "      <td>0.0</td>\n",
       "      <td>1</td>\n",
       "    </tr>\n",
       "    <tr>\n",
       "      <th>2</th>\n",
       "      <td>0.0</td>\n",
       "      <td>1.0</td>\n",
       "      <td>3.0</td>\n",
       "      <td>1.0</td>\n",
       "      <td>17.0</td>\n",
       "      <td>0.0</td>\n",
       "      <td>1.0</td>\n",
       "      <td>2.0</td>\n",
       "      <td>3.0</td>\n",
       "      <td>2.0</td>\n",
       "      <td>0.0</td>\n",
       "      <td>178560.0</td>\n",
       "      <td>0.0</td>\n",
       "      <td>0.0</td>\n",
       "      <td>1.0</td>\n",
       "      <td>0.0</td>\n",
       "      <td>0.0</td>\n",
       "      <td>15.0</td>\n",
       "      <td>1.0</td>\n",
       "      <td>0.0</td>\n",
       "      <td>0.0</td>\n",
       "      <td>1.0</td>\n",
       "      <td>1.0</td>\n",
       "      <td>1.0</td>\n",
       "      <td>0.0</td>\n",
       "      <td>0.0</td>\n",
       "      <td>0.0</td>\n",
       "      <td>1.0</td>\n",
       "      <td>0.0</td>\n",
       "      <td>0.0</td>\n",
       "      <td>0</td>\n",
       "    </tr>\n",
       "    <tr>\n",
       "      <th>3</th>\n",
       "      <td>0.0</td>\n",
       "      <td>0.0</td>\n",
       "      <td>1.0</td>\n",
       "      <td>1.0</td>\n",
       "      <td>2.0</td>\n",
       "      <td>1.0</td>\n",
       "      <td>0.0</td>\n",
       "      <td>4.0</td>\n",
       "      <td>2.0</td>\n",
       "      <td>4.0</td>\n",
       "      <td>0.0</td>\n",
       "      <td>83210.0</td>\n",
       "      <td>1.0</td>\n",
       "      <td>0.0</td>\n",
       "      <td>0.0</td>\n",
       "      <td>0.0</td>\n",
       "      <td>0.0</td>\n",
       "      <td>11.0</td>\n",
       "      <td>0.0</td>\n",
       "      <td>0.0</td>\n",
       "      <td>0.0</td>\n",
       "      <td>1.0</td>\n",
       "      <td>3.0</td>\n",
       "      <td>1.0</td>\n",
       "      <td>0.0</td>\n",
       "      <td>0.0</td>\n",
       "      <td>7.0</td>\n",
       "      <td>1.0</td>\n",
       "      <td>0.0</td>\n",
       "      <td>0.0</td>\n",
       "      <td>0</td>\n",
       "    </tr>\n",
       "    <tr>\n",
       "      <th>4</th>\n",
       "      <td>0.0</td>\n",
       "      <td>1.0</td>\n",
       "      <td>2.0</td>\n",
       "      <td>1.0</td>\n",
       "      <td>10.0</td>\n",
       "      <td>1.0</td>\n",
       "      <td>0.0</td>\n",
       "      <td>4.0</td>\n",
       "      <td>3.0</td>\n",
       "      <td>1.0</td>\n",
       "      <td>1.0</td>\n",
       "      <td>23420.0</td>\n",
       "      <td>1.0</td>\n",
       "      <td>0.0</td>\n",
       "      <td>0.0</td>\n",
       "      <td>0.0</td>\n",
       "      <td>0.0</td>\n",
       "      <td>12.0</td>\n",
       "      <td>1.0</td>\n",
       "      <td>0.0</td>\n",
       "      <td>0.0</td>\n",
       "      <td>1.0</td>\n",
       "      <td>3.0</td>\n",
       "      <td>1.0</td>\n",
       "      <td>0.0</td>\n",
       "      <td>0.0</td>\n",
       "      <td>0.0</td>\n",
       "      <td>1.0</td>\n",
       "      <td>0.0</td>\n",
       "      <td>0.0</td>\n",
       "      <td>0</td>\n",
       "    </tr>\n",
       "  </tbody>\n",
       "</table>\n",
       "</div>"
      ],
      "text/plain": [
       "   Age_High  Age_Low  BusinessTravel  Department_RnD_Sales  DistanceFromHome  \\\n",
       "0       1.0      0.0             2.0                   1.0               6.0   \n",
       "1       0.0      1.0             3.0                   1.0              10.0   \n",
       "2       0.0      1.0             3.0                   1.0              17.0   \n",
       "3       0.0      0.0             1.0                   1.0               2.0   \n",
       "4       0.0      1.0             2.0                   1.0              10.0   \n",
       "\n",
       "   EducationField_LS_M_M  EducationField_oth_TD  EnvironmentSatisfaction  \\\n",
       "0                    1.0                    0.0                      3.0   \n",
       "1                    1.0                    0.0                      3.0   \n",
       "2                    0.0                    1.0                      2.0   \n",
       "3                    1.0                    0.0                      4.0   \n",
       "4                    1.0                    0.0                      4.0   \n",
       "\n",
       "   JobInvolvement  JobSatisfaction  MaritalStatus_Single  MonthlyIncome  \\\n",
       "0             3.0              4.0                   0.0       131160.0   \n",
       "1             2.0              2.0                   1.0        41890.0   \n",
       "2             3.0              2.0                   0.0       178560.0   \n",
       "3             2.0              4.0                   0.0        83210.0   \n",
       "4             3.0              1.0                   1.0        23420.0   \n",
       "\n",
       "   NumCompaniesWorked_Below_Avg  NumCompaniesWorked_High  \\\n",
       "0                           0.0                      0.0   \n",
       "1                           0.0                      0.0   \n",
       "2                           0.0                      0.0   \n",
       "3                           1.0                      0.0   \n",
       "4                           1.0                      0.0   \n",
       "\n",
       "   NumCompaniesWorked_Low  NumCompaniesWorked_Very_High  \\\n",
       "0                     1.0                           0.0   \n",
       "1                     0.0                           0.0   \n",
       "2                     1.0                           0.0   \n",
       "3                     0.0                           0.0   \n",
       "4                     0.0                           0.0   \n",
       "\n",
       "   NumCompaniesWorked_Very_Low  PercentSalaryHike  \\\n",
       "0                          0.0               11.0   \n",
       "1                          1.0               23.0   \n",
       "2                          0.0               15.0   \n",
       "3                          0.0               11.0   \n",
       "4                          0.0               12.0   \n",
       "\n",
       "   TotalWorkingYears_Below_Avg  TotalWorkingYears_High  TotalWorkingYears_Low  \\\n",
       "0                          0.0                     0.0                    1.0   \n",
       "1                          1.0                     0.0                    0.0   \n",
       "2                          1.0                     0.0                    0.0   \n",
       "3                          0.0                     0.0                    0.0   \n",
       "4                          1.0                     0.0                    0.0   \n",
       "\n",
       "   TrainingTimesLastYear_Low  WorkLifeBalance  YearsAtCompany_Below_Avg  \\\n",
       "0                        0.0              2.0                       0.0   \n",
       "1                        1.0              4.0                       1.0   \n",
       "2                        1.0              1.0                       1.0   \n",
       "3                        1.0              3.0                       1.0   \n",
       "4                        1.0              3.0                       1.0   \n",
       "\n",
       "   YearsAtCompany_High  YearsAtCompany_Low  YearsSinceLastPromotion  \\\n",
       "0                  0.0                 1.0                      0.0   \n",
       "1                  0.0                 0.0                      1.0   \n",
       "2                  0.0                 0.0                      0.0   \n",
       "3                  0.0                 0.0                      7.0   \n",
       "4                  0.0                 0.0                      0.0   \n",
       "\n",
       "   YearsWithCurrManager_2  YearsWithCurrManager_3  YearsWithCurrManager_4  \\\n",
       "0                     0.0                     0.0                     0.0   \n",
       "1                     1.0                     0.0                     0.0   \n",
       "2                     1.0                     0.0                     0.0   \n",
       "3                     1.0                     0.0                     0.0   \n",
       "4                     1.0                     0.0                     0.0   \n",
       "\n",
       "   Attrition  \n",
       "0          0  \n",
       "1          1  \n",
       "2          0  \n",
       "3          0  \n",
       "4          0  "
      ]
     },
     "execution_count": 105,
     "metadata": {},
     "output_type": "execute_result"
    }
   ],
   "source": [
    "x = pd.concat([data[data.columns.difference(['Attrition'])],data['Attrition']], axis=1)\n",
    "x.head()"
   ]
  },
  {
   "cell_type": "code",
   "execution_count": 106,
   "metadata": {},
   "outputs": [],
   "source": [
    "a,b = dmatrices(formula_like = 'Attrition~'+'Age_Low+YearsAtCompany_Low+MaritalStatus_Single+TotalWorkingYears_Low+YearsWithCurrManager_2+JobSatisfaction+EnvironmentSatisfaction+NumCompaniesWorked_Below_Avg+TotalWorkingYears_High+Age_High+YearsSinceLastPromotion+YearsAtCompany_High+NumCompaniesWorked_Low+WorkLifeBalance',data=x,return_type='dataframe')"
   ]
  },
  {
   "cell_type": "code",
   "execution_count": 107,
   "metadata": {},
   "outputs": [],
   "source": [
    "vif = pd.DataFrame()\n",
    "vif['VIF Factor'] = [variance_inflation_factor(b.values,i) for i in range(b.shape[1])]\n",
    "vif['Feature'] = b.columns"
   ]
  },
  {
   "cell_type": "code",
   "execution_count": 108,
   "metadata": {},
   "outputs": [
    {
     "name": "stdout",
     "output_type": "stream",
     "text": [
      "    VIF Factor                       Feature\n",
      "0    41.465686                     Intercept\n",
      "1     1.506909                       Age_Low\n",
      "2     1.998967            YearsAtCompany_Low\n",
      "3     1.020008          MaritalStatus_Single\n",
      "4     1.832918         TotalWorkingYears_Low\n",
      "5     1.524525        YearsWithCurrManager_2\n",
      "6     1.006884               JobSatisfaction\n",
      "7     1.005286       EnvironmentSatisfaction\n",
      "8     1.419776  NumCompaniesWorked_Below_Avg\n",
      "9     1.773042        TotalWorkingYears_High\n",
      "10    1.592556                      Age_High\n",
      "11    1.481923       YearsSinceLastPromotion\n",
      "12    1.903812           YearsAtCompany_High\n",
      "13    1.560722        NumCompaniesWorked_Low\n",
      "14    1.006866               WorkLifeBalance\n"
     ]
    }
   ],
   "source": [
    "print(vif)"
   ]
  },
  {
   "cell_type": "markdown",
   "metadata": {},
   "source": [
    "### Spliting the data into Train and Test"
   ]
  },
  {
   "cell_type": "code",
   "execution_count": 109,
   "metadata": {},
   "outputs": [],
   "source": [
    "from sklearn.model_selection import train_test_split"
   ]
  },
  {
   "cell_type": "code",
   "execution_count": 110,
   "metadata": {},
   "outputs": [],
   "source": [
    "train, test = train_test_split(data,test_size = 0.3, random_state = 999)"
   ]
  },
  {
   "cell_type": "markdown",
   "metadata": {},
   "source": [
    "### Building Model"
   ]
  },
  {
   "cell_type": "code",
   "execution_count": 111,
   "metadata": {},
   "outputs": [
    {
     "name": "stdout",
     "output_type": "stream",
     "text": [
      "Optimization terminated successfully.\n",
      "         Current function value: 0.377075\n",
      "         Iterations 7\n"
     ]
    }
   ],
   "source": [
    "log_reg = sm.logit(formula='Attrition~Age_Low+YearsAtCompany_Low+MaritalStatus_Single+TotalWorkingYears_Low+YearsWithCurrManager_2+JobSatisfaction+EnvironmentSatisfaction+NumCompaniesWorked_Below_Avg+TotalWorkingYears_High+YearsSinceLastPromotion+YearsAtCompany_High+NumCompaniesWorked_Low+WorkLifeBalance',data=train)\n",
    "result=log_reg.fit()"
   ]
  },
  {
   "cell_type": "code",
   "execution_count": 112,
   "metadata": {},
   "outputs": [
    {
     "name": "stdout",
     "output_type": "stream",
     "text": [
      "                               Results: Logit\n",
      "============================================================================\n",
      "Model:                   Logit               Pseudo R-squared:    0.150     \n",
      "Dependent Variable:      Attrition           AIC:                 2356.0586 \n",
      "Date:                    2021-01-04 17:59    BIC:                 2440.5480 \n",
      "No. Observations:        3087                Log-Likelihood:      -1164.0   \n",
      "Df Model:                13                  LL-Null:             -1368.9   \n",
      "Df Residuals:            3073                LLR p-value:         1.8799e-79\n",
      "Converged:               1.0000              Scale:               1.0000    \n",
      "No. Iterations:          7.0000                                             \n",
      "----------------------------------------------------------------------------\n",
      "                              Coef.  Std.Err.    z    P>|z|   [0.025  0.975]\n",
      "----------------------------------------------------------------------------\n",
      "Intercept                     0.3788   0.3222  1.1756 0.2397 -0.2527  1.0104\n",
      "Age_Low                       0.7357   0.1235  5.9567 0.0000  0.4936  0.9778\n",
      "YearsAtCompany_Low            0.5247   0.1670  3.1429 0.0017  0.1975  0.8520\n",
      "MaritalStatus_Single          0.8931   0.1076  8.3037 0.0000  0.6823  1.1039\n",
      "TotalWorkingYears_Low         0.6605   0.1984  3.3296 0.0009  0.2717  1.0492\n",
      "YearsWithCurrManager_2       -0.6131   0.1459 -4.2015 0.0000 -0.8991 -0.3271\n",
      "JobSatisfaction              -0.3006   0.0477 -6.2968 0.0000 -0.3942 -0.2071\n",
      "EnvironmentSatisfaction      -0.2532   0.0482 -5.2559 0.0000 -0.3477 -0.1588\n",
      "NumCompaniesWorked_Below_Avg -0.4512   0.1459 -3.0927 0.0020 -0.7372 -0.1653\n",
      "TotalWorkingYears_High       -0.5393   0.2223 -2.4263 0.0153 -0.9749 -0.1036\n",
      "YearsSinceLastPromotion       0.1054   0.0217  4.8449 0.0000  0.0627  0.1480\n",
      "YearsAtCompany_High          -0.5962   0.2567 -2.3225 0.0202 -1.0994 -0.0931\n",
      "NumCompaniesWorked_Low       -0.3786   0.1369 -2.7663 0.0057 -0.6468 -0.1104\n",
      "WorkLifeBalance              -0.3347   0.0733 -4.5656 0.0000 -0.4784 -0.1910\n",
      "============================================================================\n",
      "\n"
     ]
    }
   ],
   "source": [
    "print(result.summary2())"
   ]
  },
  {
   "cell_type": "markdown",
   "metadata": {},
   "source": [
    "## Metrics"
   ]
  },
  {
   "cell_type": "markdown",
   "metadata": {},
   "source": [
    "### Sommers D\n",
    "We want to achieve high Somers' D."
   ]
  },
  {
   "cell_type": "code",
   "execution_count": 113,
   "metadata": {},
   "outputs": [
    {
     "name": "stdout",
     "output_type": "stream",
     "text": [
      "Train Gini: 0.5129370030241143\n",
      "Test Gini: 0.4972018996277756\n"
     ]
    }
   ],
   "source": [
    "# Train data Somers' D\n",
    "train_gini = 2*metrics.roc_auc_score(train['Attrition'],result.predict(train))-1 \n",
    "print('Train Gini:',train_gini)\n",
    "\n",
    "# Test data Somers' D\n",
    "test_gini = 2*metrics.roc_auc_score(test['Attrition'],result.predict(test))-1\n",
    "print('Test Gini:',test_gini)"
   ]
  },
  {
   "cell_type": "markdown",
   "metadata": {},
   "source": [
    "### AUC\n",
    "We want to achieve high AUC."
   ]
  },
  {
   "cell_type": "code",
   "execution_count": 114,
   "metadata": {},
   "outputs": [
    {
     "name": "stdout",
     "output_type": "stream",
     "text": [
      "Train AUC: 0.7564685015120571\n",
      "Test AUC: 0.7486009498138878\n"
     ]
    }
   ],
   "source": [
    "# Train data AUC\n",
    "train_auc = metrics.roc_auc_score(train['Attrition'],result.predict(train))\n",
    "print('Train AUC:',train_auc)\n",
    "# Test data AUC\n",
    "test_auc = metrics.roc_auc_score(test['Attrition'],result.predict(test))\n",
    "print('Test AUC:',test_auc)"
   ]
  },
  {
   "cell_type": "markdown",
   "metadata": {},
   "source": [
    "### Predicting on Train data"
   ]
  },
  {
   "cell_type": "code",
   "execution_count": 115,
   "metadata": {},
   "outputs": [
    {
     "data": {
      "text/html": [
       "<div>\n",
       "<style scoped>\n",
       "    .dataframe tbody tr th:only-of-type {\n",
       "        vertical-align: middle;\n",
       "    }\n",
       "\n",
       "    .dataframe tbody tr th {\n",
       "        vertical-align: top;\n",
       "    }\n",
       "\n",
       "    .dataframe thead th {\n",
       "        text-align: right;\n",
       "    }\n",
       "</style>\n",
       "<table border=\"1\" class=\"dataframe\">\n",
       "  <thead>\n",
       "    <tr style=\"text-align: right;\">\n",
       "      <th></th>\n",
       "      <th>Actual</th>\n",
       "      <th>Prob</th>\n",
       "    </tr>\n",
       "  </thead>\n",
       "  <tbody>\n",
       "    <tr>\n",
       "      <th>2673</th>\n",
       "      <td>1</td>\n",
       "      <td>0.061881</td>\n",
       "    </tr>\n",
       "    <tr>\n",
       "      <th>2512</th>\n",
       "      <td>0</td>\n",
       "      <td>0.068885</td>\n",
       "    </tr>\n",
       "    <tr>\n",
       "      <th>1707</th>\n",
       "      <td>1</td>\n",
       "      <td>0.173214</td>\n",
       "    </tr>\n",
       "    <tr>\n",
       "      <th>2405</th>\n",
       "      <td>0</td>\n",
       "      <td>0.116912</td>\n",
       "    </tr>\n",
       "    <tr>\n",
       "      <th>1431</th>\n",
       "      <td>0</td>\n",
       "      <td>0.047282</td>\n",
       "    </tr>\n",
       "  </tbody>\n",
       "</table>\n",
       "</div>"
      ],
      "text/plain": [
       "      Actual      Prob\n",
       "2673       1  0.061881\n",
       "2512       0  0.068885\n",
       "1707       1  0.173214\n",
       "2405       0  0.116912\n",
       "1431       0  0.047282"
      ]
     },
     "execution_count": 115,
     "metadata": {},
     "output_type": "execute_result"
    }
   ],
   "source": [
    "# Train Predicted\n",
    "train_pred_prob = pd.DataFrame(result.predict(train))\n",
    "train_pred_prob.columns = ['prob']\n",
    "train_actual = train['Attrition']\n",
    "# Making a dataframe\n",
    "train_pred = pd.concat([train_actual,train_pred_prob], axis = 1)\n",
    "train_pred.columns = ['Actual','Prob']\n",
    "train_pred.head()\n"
   ]
  },
  {
   "cell_type": "markdown",
   "metadata": {},
   "source": [
    "### Predicting on Test data"
   ]
  },
  {
   "cell_type": "code",
   "execution_count": 116,
   "metadata": {},
   "outputs": [
    {
     "data": {
      "text/html": [
       "<div>\n",
       "<style scoped>\n",
       "    .dataframe tbody tr th:only-of-type {\n",
       "        vertical-align: middle;\n",
       "    }\n",
       "\n",
       "    .dataframe tbody tr th {\n",
       "        vertical-align: top;\n",
       "    }\n",
       "\n",
       "    .dataframe thead th {\n",
       "        text-align: right;\n",
       "    }\n",
       "</style>\n",
       "<table border=\"1\" class=\"dataframe\">\n",
       "  <thead>\n",
       "    <tr style=\"text-align: right;\">\n",
       "      <th></th>\n",
       "      <th>Actual</th>\n",
       "      <th>Prob</th>\n",
       "    </tr>\n",
       "  </thead>\n",
       "  <tbody>\n",
       "    <tr>\n",
       "      <th>1391</th>\n",
       "      <td>0</td>\n",
       "      <td>0.215816</td>\n",
       "    </tr>\n",
       "    <tr>\n",
       "      <th>2210</th>\n",
       "      <td>0</td>\n",
       "      <td>0.276880</td>\n",
       "    </tr>\n",
       "    <tr>\n",
       "      <th>1566</th>\n",
       "      <td>0</td>\n",
       "      <td>0.117448</td>\n",
       "    </tr>\n",
       "    <tr>\n",
       "      <th>343</th>\n",
       "      <td>0</td>\n",
       "      <td>0.307082</td>\n",
       "    </tr>\n",
       "    <tr>\n",
       "      <th>1322</th>\n",
       "      <td>0</td>\n",
       "      <td>0.291742</td>\n",
       "    </tr>\n",
       "  </tbody>\n",
       "</table>\n",
       "</div>"
      ],
      "text/plain": [
       "      Actual      Prob\n",
       "1391       0  0.215816\n",
       "2210       0  0.276880\n",
       "1566       0  0.117448\n",
       "343        0  0.307082\n",
       "1322       0  0.291742"
      ]
     },
     "execution_count": 116,
     "metadata": {},
     "output_type": "execute_result"
    }
   ],
   "source": [
    "# Test Predicted\n",
    "test_pred_prob = pd.DataFrame(result.predict(test))\n",
    "test_pred_prob.columns = ['prob']\n",
    "test_actual = test['Attrition']\n",
    "# Making a dataframe\n",
    "test_pred = pd.concat([test_actual,test_pred_prob], axis = 1)\n",
    "test_pred.columns = ['Actual','Prob']\n",
    "test_pred.head()\n"
   ]
  },
  {
   "cell_type": "markdown",
   "metadata": {},
   "source": [
    "### Calculating metrics for each cut-off"
   ]
  },
  {
   "cell_type": "code",
   "execution_count": 117,
   "metadata": {},
   "outputs": [],
   "source": [
    "# Confusion matrix for each cutoff\n",
    "roc_like_df = pd.DataFrame()\n",
    "train_temp = train_pred.copy()\n",
    "\n",
    "for cut_off in np.linspace(0,1,50):\n",
    "    #train_temp['CutOff'] = cut_off\n",
    "    train_temp['Predicted'] = train_temp['Prob'].apply(lambda x: 0.0 if x < cut_off else 1.0)\n",
    "    train_temp['tp'] = train_temp.apply(lambda x:1.0 if x['Actual']==1.0 and x['Predicted']==1.0 else 0.0, axis=1)\n",
    "    train_temp['tn'] = train_temp.apply(lambda x:1.0 if x['Actual']==0.0 and x['Predicted']==0.0 else 0.0, axis=1)\n",
    "    train_temp['fp'] = train_temp.apply(lambda x:1.0 if x['Actual']==0.0 and x['Predicted']==1.0 else 0.0, axis=1)\n",
    "    train_temp['fn'] = train_temp.apply(lambda x:1.0 if x['Actual']==1.0 and x['Predicted']==0.0 else 0.0, axis=1)\n",
    "    sensitivity = train_temp['tp'].sum()/(train_temp['tp'].sum()+train_temp['fn'].sum())\n",
    "    specificity = train_temp['tn'].sum()/(train_temp['tn'].sum()+train_temp.fp.sum())\n",
    "    accuracy = (train_temp['tp'].sum()+train_temp['tn'].sum())/(train_temp['tp'].sum()+train_temp['tn'].sum()+train_temp['fp'].sum()+train_temp['fn'].sum())\n",
    "    cutoff = cut_off\n",
    "    roc_like_table = pd.DataFrame([cutoff,sensitivity,specificity,accuracy]).T\n",
    "    roc_like_table.columns = ['cutoff','Sensitivity','Specificity','Accuracy']\n",
    "    roc_like_df = pd.concat([roc_like_df,roc_like_table], axis=0)"
   ]
  },
  {
   "cell_type": "code",
   "execution_count": 118,
   "metadata": {},
   "outputs": [
    {
     "data": {
      "text/html": [
       "<div>\n",
       "<style scoped>\n",
       "    .dataframe tbody tr th:only-of-type {\n",
       "        vertical-align: middle;\n",
       "    }\n",
       "\n",
       "    .dataframe tbody tr th {\n",
       "        vertical-align: top;\n",
       "    }\n",
       "\n",
       "    .dataframe thead th {\n",
       "        text-align: right;\n",
       "    }\n",
       "</style>\n",
       "<table border=\"1\" class=\"dataframe\">\n",
       "  <thead>\n",
       "    <tr style=\"text-align: right;\">\n",
       "      <th></th>\n",
       "      <th>cutoff</th>\n",
       "      <th>Sensitivity</th>\n",
       "      <th>Specificity</th>\n",
       "      <th>Accuracy</th>\n",
       "    </tr>\n",
       "  </thead>\n",
       "  <tbody>\n",
       "    <tr>\n",
       "      <th>0</th>\n",
       "      <td>0.000000</td>\n",
       "      <td>1.000000</td>\n",
       "      <td>0.000000</td>\n",
       "      <td>0.162293</td>\n",
       "    </tr>\n",
       "    <tr>\n",
       "      <th>0</th>\n",
       "      <td>0.020408</td>\n",
       "      <td>0.996008</td>\n",
       "      <td>0.029776</td>\n",
       "      <td>0.186589</td>\n",
       "    </tr>\n",
       "    <tr>\n",
       "      <th>0</th>\n",
       "      <td>0.040816</td>\n",
       "      <td>0.976048</td>\n",
       "      <td>0.145012</td>\n",
       "      <td>0.279883</td>\n",
       "    </tr>\n",
       "    <tr>\n",
       "      <th>0</th>\n",
       "      <td>0.061224</td>\n",
       "      <td>0.932136</td>\n",
       "      <td>0.278036</td>\n",
       "      <td>0.384192</td>\n",
       "    </tr>\n",
       "    <tr>\n",
       "      <th>0</th>\n",
       "      <td>0.081633</td>\n",
       "      <td>0.870259</td>\n",
       "      <td>0.393658</td>\n",
       "      <td>0.471007</td>\n",
       "    </tr>\n",
       "  </tbody>\n",
       "</table>\n",
       "</div>"
      ],
      "text/plain": [
       "     cutoff  Sensitivity  Specificity  Accuracy\n",
       "0  0.000000     1.000000     0.000000  0.162293\n",
       "0  0.020408     0.996008     0.029776  0.186589\n",
       "0  0.040816     0.976048     0.145012  0.279883\n",
       "0  0.061224     0.932136     0.278036  0.384192\n",
       "0  0.081633     0.870259     0.393658  0.471007"
      ]
     },
     "execution_count": 118,
     "metadata": {},
     "output_type": "execute_result"
    }
   ],
   "source": [
    "roc_like_df.head()"
   ]
  },
  {
   "cell_type": "markdown",
   "metadata": {},
   "source": [
    "Finding the ideal **cut-off** based on the total of **sensitivity** and **specficity**."
   ]
  },
  {
   "cell_type": "code",
   "execution_count": 119,
   "metadata": {},
   "outputs": [],
   "source": [
    "# Finding ideal cutoff\n",
    "roc_like_df['Total'] = roc_like_df['Sensitivity'] + roc_like_df['Specificity']"
   ]
  },
  {
   "cell_type": "code",
   "execution_count": 120,
   "metadata": {},
   "outputs": [
    {
     "data": {
      "text/html": [
       "<div>\n",
       "<style scoped>\n",
       "    .dataframe tbody tr th:only-of-type {\n",
       "        vertical-align: middle;\n",
       "    }\n",
       "\n",
       "    .dataframe tbody tr th {\n",
       "        vertical-align: top;\n",
       "    }\n",
       "\n",
       "    .dataframe thead th {\n",
       "        text-align: right;\n",
       "    }\n",
       "</style>\n",
       "<table border=\"1\" class=\"dataframe\">\n",
       "  <thead>\n",
       "    <tr style=\"text-align: right;\">\n",
       "      <th></th>\n",
       "      <th>cutoff</th>\n",
       "      <th>Sensitivity</th>\n",
       "      <th>Specificity</th>\n",
       "      <th>Accuracy</th>\n",
       "      <th>Total</th>\n",
       "    </tr>\n",
       "  </thead>\n",
       "  <tbody>\n",
       "    <tr>\n",
       "      <th>0</th>\n",
       "      <td>0.000000</td>\n",
       "      <td>1.000000</td>\n",
       "      <td>0.000000</td>\n",
       "      <td>0.162293</td>\n",
       "      <td>1.000000</td>\n",
       "    </tr>\n",
       "    <tr>\n",
       "      <th>0</th>\n",
       "      <td>0.020408</td>\n",
       "      <td>0.996008</td>\n",
       "      <td>0.029776</td>\n",
       "      <td>0.186589</td>\n",
       "      <td>1.025784</td>\n",
       "    </tr>\n",
       "    <tr>\n",
       "      <th>0</th>\n",
       "      <td>0.040816</td>\n",
       "      <td>0.976048</td>\n",
       "      <td>0.145012</td>\n",
       "      <td>0.279883</td>\n",
       "      <td>1.121060</td>\n",
       "    </tr>\n",
       "    <tr>\n",
       "      <th>0</th>\n",
       "      <td>0.061224</td>\n",
       "      <td>0.932136</td>\n",
       "      <td>0.278036</td>\n",
       "      <td>0.384192</td>\n",
       "      <td>1.210171</td>\n",
       "    </tr>\n",
       "    <tr>\n",
       "      <th>0</th>\n",
       "      <td>0.081633</td>\n",
       "      <td>0.870259</td>\n",
       "      <td>0.393658</td>\n",
       "      <td>0.471007</td>\n",
       "      <td>1.263918</td>\n",
       "    </tr>\n",
       "  </tbody>\n",
       "</table>\n",
       "</div>"
      ],
      "text/plain": [
       "     cutoff  Sensitivity  Specificity  Accuracy     Total\n",
       "0  0.000000     1.000000     0.000000  0.162293  1.000000\n",
       "0  0.020408     0.996008     0.029776  0.186589  1.025784\n",
       "0  0.040816     0.976048     0.145012  0.279883  1.121060\n",
       "0  0.061224     0.932136     0.278036  0.384192  1.210171\n",
       "0  0.081633     0.870259     0.393658  0.471007  1.263918"
      ]
     },
     "execution_count": 120,
     "metadata": {},
     "output_type": "execute_result"
    }
   ],
   "source": [
    "roc_like_df.head()"
   ]
  },
  {
   "cell_type": "code",
   "execution_count": 121,
   "metadata": {},
   "outputs": [
    {
     "data": {
      "text/html": [
       "<div>\n",
       "<style scoped>\n",
       "    .dataframe tbody tr th:only-of-type {\n",
       "        vertical-align: middle;\n",
       "    }\n",
       "\n",
       "    .dataframe tbody tr th {\n",
       "        vertical-align: top;\n",
       "    }\n",
       "\n",
       "    .dataframe thead th {\n",
       "        text-align: right;\n",
       "    }\n",
       "</style>\n",
       "<table border=\"1\" class=\"dataframe\">\n",
       "  <thead>\n",
       "    <tr style=\"text-align: right;\">\n",
       "      <th></th>\n",
       "      <th>cutoff</th>\n",
       "      <th>Sensitivity</th>\n",
       "      <th>Specificity</th>\n",
       "      <th>Accuracy</th>\n",
       "      <th>Total</th>\n",
       "    </tr>\n",
       "  </thead>\n",
       "  <tbody>\n",
       "    <tr>\n",
       "      <th>0</th>\n",
       "      <td>0.163265</td>\n",
       "      <td>0.674651</td>\n",
       "      <td>0.718871</td>\n",
       "      <td>0.711694</td>\n",
       "      <td>1.393522</td>\n",
       "    </tr>\n",
       "  </tbody>\n",
       "</table>\n",
       "</div>"
      ],
      "text/plain": [
       "     cutoff  Sensitivity  Specificity  Accuracy     Total\n",
       "0  0.163265     0.674651     0.718871  0.711694  1.393522"
      ]
     },
     "execution_count": 121,
     "metadata": {},
     "output_type": "execute_result"
    }
   ],
   "source": [
    "# Cutoff based on highest sensitivity+specificity\n",
    "roc_like_df[roc_like_df['Total']==roc_like_df['Total'].max()]"
   ]
  },
  {
   "cell_type": "code",
   "execution_count": 122,
   "metadata": {},
   "outputs": [
    {
     "data": {
      "text/html": [
       "<div>\n",
       "<style scoped>\n",
       "    .dataframe tbody tr th:only-of-type {\n",
       "        vertical-align: middle;\n",
       "    }\n",
       "\n",
       "    .dataframe tbody tr th {\n",
       "        vertical-align: top;\n",
       "    }\n",
       "\n",
       "    .dataframe thead th {\n",
       "        text-align: right;\n",
       "    }\n",
       "</style>\n",
       "<table border=\"1\" class=\"dataframe\">\n",
       "  <thead>\n",
       "    <tr style=\"text-align: right;\">\n",
       "      <th></th>\n",
       "      <th>Actual</th>\n",
       "      <th>Prob</th>\n",
       "    </tr>\n",
       "  </thead>\n",
       "  <tbody>\n",
       "    <tr>\n",
       "      <th>1391</th>\n",
       "      <td>0</td>\n",
       "      <td>0.215816</td>\n",
       "    </tr>\n",
       "    <tr>\n",
       "      <th>2210</th>\n",
       "      <td>0</td>\n",
       "      <td>0.276880</td>\n",
       "    </tr>\n",
       "    <tr>\n",
       "      <th>1566</th>\n",
       "      <td>0</td>\n",
       "      <td>0.117448</td>\n",
       "    </tr>\n",
       "    <tr>\n",
       "      <th>343</th>\n",
       "      <td>0</td>\n",
       "      <td>0.307082</td>\n",
       "    </tr>\n",
       "    <tr>\n",
       "      <th>1322</th>\n",
       "      <td>0</td>\n",
       "      <td>0.291742</td>\n",
       "    </tr>\n",
       "  </tbody>\n",
       "</table>\n",
       "</div>"
      ],
      "text/plain": [
       "      Actual      Prob\n",
       "1391       0  0.215816\n",
       "2210       0  0.276880\n",
       "1566       0  0.117448\n",
       "343        0  0.307082\n",
       "1322       0  0.291742"
      ]
     },
     "execution_count": 122,
     "metadata": {},
     "output_type": "execute_result"
    }
   ],
   "source": [
    "test_pred.head()"
   ]
  },
  {
   "cell_type": "markdown",
   "metadata": {},
   "source": [
    "### Predicting on Train and Test based on the ideal cut-off"
   ]
  },
  {
   "cell_type": "code",
   "execution_count": 123,
   "metadata": {},
   "outputs": [],
   "source": [
    "# Train and test predicted based in cutoff 0.163\n",
    "train_pred['Predicted'] = train_pred['Prob'].apply(lambda x: 0 if x<0.163 else 1)\n",
    "test_pred['Predicted'] = test_pred['Prob'].apply(lambda x: 0 if x<0.163 else 1)"
   ]
  },
  {
   "cell_type": "code",
   "execution_count": 124,
   "metadata": {},
   "outputs": [
    {
     "data": {
      "text/html": [
       "<div>\n",
       "<style scoped>\n",
       "    .dataframe tbody tr th:only-of-type {\n",
       "        vertical-align: middle;\n",
       "    }\n",
       "\n",
       "    .dataframe tbody tr th {\n",
       "        vertical-align: top;\n",
       "    }\n",
       "\n",
       "    .dataframe thead th {\n",
       "        text-align: right;\n",
       "    }\n",
       "</style>\n",
       "<table border=\"1\" class=\"dataframe\">\n",
       "  <thead>\n",
       "    <tr style=\"text-align: right;\">\n",
       "      <th>Predicted</th>\n",
       "      <th>0</th>\n",
       "      <th>1</th>\n",
       "    </tr>\n",
       "    <tr>\n",
       "      <th>Actual</th>\n",
       "      <th></th>\n",
       "      <th></th>\n",
       "    </tr>\n",
       "  </thead>\n",
       "  <tbody>\n",
       "    <tr>\n",
       "      <th>0</th>\n",
       "      <td>1857</td>\n",
       "      <td>729</td>\n",
       "    </tr>\n",
       "    <tr>\n",
       "      <th>1</th>\n",
       "      <td>163</td>\n",
       "      <td>338</td>\n",
       "    </tr>\n",
       "  </tbody>\n",
       "</table>\n",
       "</div>"
      ],
      "text/plain": [
       "Predicted     0    1\n",
       "Actual              \n",
       "0          1857  729\n",
       "1           163  338"
      ]
     },
     "execution_count": 124,
     "metadata": {},
     "output_type": "execute_result"
    }
   ],
   "source": [
    "pd.crosstab(train_pred['Actual'],train_pred['Predicted'])"
   ]
  },
  {
   "cell_type": "code",
   "execution_count": 125,
   "metadata": {},
   "outputs": [
    {
     "data": {
      "text/html": [
       "<div>\n",
       "<style scoped>\n",
       "    .dataframe tbody tr th:only-of-type {\n",
       "        vertical-align: middle;\n",
       "    }\n",
       "\n",
       "    .dataframe tbody tr th {\n",
       "        vertical-align: top;\n",
       "    }\n",
       "\n",
       "    .dataframe thead th {\n",
       "        text-align: right;\n",
       "    }\n",
       "</style>\n",
       "<table border=\"1\" class=\"dataframe\">\n",
       "  <thead>\n",
       "    <tr style=\"text-align: right;\">\n",
       "      <th>Predicted</th>\n",
       "      <th>0</th>\n",
       "      <th>1</th>\n",
       "    </tr>\n",
       "    <tr>\n",
       "      <th>Actual</th>\n",
       "      <th></th>\n",
       "      <th></th>\n",
       "    </tr>\n",
       "  </thead>\n",
       "  <tbody>\n",
       "    <tr>\n",
       "      <th>0</th>\n",
       "      <td>796</td>\n",
       "      <td>317</td>\n",
       "    </tr>\n",
       "    <tr>\n",
       "      <th>1</th>\n",
       "      <td>71</td>\n",
       "      <td>139</td>\n",
       "    </tr>\n",
       "  </tbody>\n",
       "</table>\n",
       "</div>"
      ],
      "text/plain": [
       "Predicted    0    1\n",
       "Actual             \n",
       "0          796  317\n",
       "1           71  139"
      ]
     },
     "execution_count": 125,
     "metadata": {},
     "output_type": "execute_result"
    }
   ],
   "source": [
    "pd.crosstab(test_pred['Actual'],test_pred['Predicted'])"
   ]
  },
  {
   "cell_type": "markdown",
   "metadata": {},
   "source": [
    "### Accuracy Score"
   ]
  },
  {
   "cell_type": "code",
   "execution_count": 126,
   "metadata": {},
   "outputs": [
    {
     "name": "stdout",
     "output_type": "stream",
     "text": [
      "Accuracy of Train data: 0.7110463232912213\n",
      "Accuracy of Test data: 0.7067271352985639\n"
     ]
    }
   ],
   "source": [
    "# Calculating accuracy score\n",
    "print('Accuracy of Train data:', metrics.accuracy_score(train_pred.Actual,train_pred.Predicted))\n",
    "print('Accuracy of Test data:', metrics.accuracy_score(test_pred.Actual,test_pred.Predicted))"
   ]
  },
  {
   "cell_type": "code",
   "execution_count": 127,
   "metadata": {},
   "outputs": [
    {
     "name": "stdout",
     "output_type": "stream",
     "text": [
      "              precision    recall  f1-score   support\n",
      "\n",
      "           0       0.92      0.72      0.81      2586\n",
      "           1       0.32      0.67      0.43       501\n",
      "\n",
      "    accuracy                           0.71      3087\n",
      "   macro avg       0.62      0.70      0.62      3087\n",
      "weighted avg       0.82      0.71      0.75      3087\n",
      "\n"
     ]
    }
   ],
   "source": [
    "# classification report\n",
    "print(metrics.classification_report(train_pred.Actual,train_pred.Predicted))"
   ]
  },
  {
   "cell_type": "code",
   "execution_count": 128,
   "metadata": {},
   "outputs": [
    {
     "name": "stdout",
     "output_type": "stream",
     "text": [
      "              precision    recall  f1-score   support\n",
      "\n",
      "           0       0.92      0.72      0.80      1113\n",
      "           1       0.30      0.66      0.42       210\n",
      "\n",
      "    accuracy                           0.71      1323\n",
      "   macro avg       0.61      0.69      0.61      1323\n",
      "weighted avg       0.82      0.71      0.74      1323\n",
      "\n"
     ]
    }
   ],
   "source": [
    "print(metrics.classification_report(test_pred.Actual,test_pred.Predicted))"
   ]
  },
  {
   "cell_type": "markdown",
   "metadata": {},
   "source": [
    "### Decile Analysis"
   ]
  },
  {
   "cell_type": "code",
   "execution_count": 129,
   "metadata": {},
   "outputs": [
    {
     "data": {
      "text/html": [
       "<div>\n",
       "<style scoped>\n",
       "    .dataframe tbody tr th:only-of-type {\n",
       "        vertical-align: middle;\n",
       "    }\n",
       "\n",
       "    .dataframe tbody tr th {\n",
       "        vertical-align: top;\n",
       "    }\n",
       "\n",
       "    .dataframe thead th {\n",
       "        text-align: right;\n",
       "    }\n",
       "</style>\n",
       "<table border=\"1\" class=\"dataframe\">\n",
       "  <thead>\n",
       "    <tr style=\"text-align: right;\">\n",
       "      <th></th>\n",
       "      <th>Actual</th>\n",
       "      <th>Prob</th>\n",
       "      <th>Predicted</th>\n",
       "      <th>Decile</th>\n",
       "    </tr>\n",
       "  </thead>\n",
       "  <tbody>\n",
       "    <tr>\n",
       "      <th>2673</th>\n",
       "      <td>1</td>\n",
       "      <td>0.061881</td>\n",
       "      <td>0</td>\n",
       "      <td>2</td>\n",
       "    </tr>\n",
       "    <tr>\n",
       "      <th>2512</th>\n",
       "      <td>0</td>\n",
       "      <td>0.068885</td>\n",
       "      <td>0</td>\n",
       "      <td>2</td>\n",
       "    </tr>\n",
       "    <tr>\n",
       "      <th>1707</th>\n",
       "      <td>1</td>\n",
       "      <td>0.173214</td>\n",
       "      <td>1</td>\n",
       "      <td>6</td>\n",
       "    </tr>\n",
       "    <tr>\n",
       "      <th>2405</th>\n",
       "      <td>0</td>\n",
       "      <td>0.116912</td>\n",
       "      <td>0</td>\n",
       "      <td>4</td>\n",
       "    </tr>\n",
       "    <tr>\n",
       "      <th>1431</th>\n",
       "      <td>0</td>\n",
       "      <td>0.047282</td>\n",
       "      <td>0</td>\n",
       "      <td>1</td>\n",
       "    </tr>\n",
       "  </tbody>\n",
       "</table>\n",
       "</div>"
      ],
      "text/plain": [
       "      Actual      Prob  Predicted  Decile\n",
       "2673       1  0.061881          0       2\n",
       "2512       0  0.068885          0       2\n",
       "1707       1  0.173214          1       6\n",
       "2405       0  0.116912          0       4\n",
       "1431       0  0.047282          0       1"
      ]
     },
     "execution_count": 129,
     "metadata": {},
     "output_type": "execute_result"
    }
   ],
   "source": [
    "# Train Data\n",
    "train_pred['Decile'] = pd.qcut(train_pred['Prob'], 10, labels=False)\n",
    "train_pred.head()"
   ]
  },
  {
   "cell_type": "code",
   "execution_count": 130,
   "metadata": {},
   "outputs": [
    {
     "data": {
      "text/html": [
       "<div>\n",
       "<style scoped>\n",
       "    .dataframe tbody tr th:only-of-type {\n",
       "        vertical-align: middle;\n",
       "    }\n",
       "\n",
       "    .dataframe tbody tr th {\n",
       "        vertical-align: top;\n",
       "    }\n",
       "\n",
       "    .dataframe thead th {\n",
       "        text-align: right;\n",
       "    }\n",
       "</style>\n",
       "<table border=\"1\" class=\"dataframe\">\n",
       "  <thead>\n",
       "    <tr style=\"text-align: right;\">\n",
       "      <th></th>\n",
       "      <th>Actual</th>\n",
       "      <th>Prob</th>\n",
       "      <th>Predicted</th>\n",
       "      <th>Decile</th>\n",
       "    </tr>\n",
       "  </thead>\n",
       "  <tbody>\n",
       "    <tr>\n",
       "      <th>1391</th>\n",
       "      <td>0</td>\n",
       "      <td>0.215816</td>\n",
       "      <td>1</td>\n",
       "      <td>7</td>\n",
       "    </tr>\n",
       "    <tr>\n",
       "      <th>2210</th>\n",
       "      <td>0</td>\n",
       "      <td>0.276880</td>\n",
       "      <td>1</td>\n",
       "      <td>8</td>\n",
       "    </tr>\n",
       "    <tr>\n",
       "      <th>1566</th>\n",
       "      <td>0</td>\n",
       "      <td>0.117448</td>\n",
       "      <td>0</td>\n",
       "      <td>5</td>\n",
       "    </tr>\n",
       "    <tr>\n",
       "      <th>343</th>\n",
       "      <td>0</td>\n",
       "      <td>0.307082</td>\n",
       "      <td>1</td>\n",
       "      <td>8</td>\n",
       "    </tr>\n",
       "    <tr>\n",
       "      <th>1322</th>\n",
       "      <td>0</td>\n",
       "      <td>0.291742</td>\n",
       "      <td>1</td>\n",
       "      <td>8</td>\n",
       "    </tr>\n",
       "  </tbody>\n",
       "</table>\n",
       "</div>"
      ],
      "text/plain": [
       "      Actual      Prob  Predicted  Decile\n",
       "1391       0  0.215816          1       7\n",
       "2210       0  0.276880          1       8\n",
       "1566       0  0.117448          0       5\n",
       "343        0  0.307082          1       8\n",
       "1322       0  0.291742          1       8"
      ]
     },
     "execution_count": 130,
     "metadata": {},
     "output_type": "execute_result"
    }
   ],
   "source": [
    "# Test Data\n",
    "test_pred['Decile'] = pd.qcut(test_pred['Prob'], 10, labels=False)\n",
    "test_pred.head()"
   ]
  },
  {
   "cell_type": "markdown",
   "metadata": {},
   "source": [
    "#### Decile Analysis for Train Data"
   ]
  },
  {
   "cell_type": "code",
   "execution_count": 131,
   "metadata": {},
   "outputs": [],
   "source": [
    "# Decile Analysis for Train Data\n",
    "no_1 = train_pred[['Decile','Actual']].groupby(train_pred.Decile).sum().sort_index(ascending=False)['Actual']\n",
    "no_total = train_pred[['Decile','Actual']].groupby(train_pred.Decile).count().sort_index(ascending=False)['Actual']\n",
    "max_prob = train_pred[['Decile','Prob']].groupby(train_pred.Decile).max().sort_index(ascending=False)['Prob']\n",
    "min_prob = train_pred[['Decile','Prob']].groupby(train_pred.Decile).min().sort_index(ascending=False)['Prob']"
   ]
  },
  {
   "cell_type": "code",
   "execution_count": 132,
   "metadata": {},
   "outputs": [],
   "source": [
    "decile_analysis_train = pd.concat([min_prob,max_prob,no_1,no_total-no_1,no_total], axis=1)"
   ]
  },
  {
   "cell_type": "code",
   "execution_count": 133,
   "metadata": {},
   "outputs": [],
   "source": [
    "decile_analysis_train.columns = ['Min_prob','Max_prob','#1','#0','Total']\n"
   ]
  },
  {
   "cell_type": "code",
   "execution_count": 134,
   "metadata": {},
   "outputs": [
    {
     "data": {
      "text/html": [
       "<div>\n",
       "<style scoped>\n",
       "    .dataframe tbody tr th:only-of-type {\n",
       "        vertical-align: middle;\n",
       "    }\n",
       "\n",
       "    .dataframe tbody tr th {\n",
       "        vertical-align: top;\n",
       "    }\n",
       "\n",
       "    .dataframe thead th {\n",
       "        text-align: right;\n",
       "    }\n",
       "</style>\n",
       "<table border=\"1\" class=\"dataframe\">\n",
       "  <thead>\n",
       "    <tr style=\"text-align: right;\">\n",
       "      <th></th>\n",
       "      <th>Min_prob</th>\n",
       "      <th>Max_prob</th>\n",
       "      <th>#1</th>\n",
       "      <th>#0</th>\n",
       "      <th>Total</th>\n",
       "    </tr>\n",
       "    <tr>\n",
       "      <th>Decile</th>\n",
       "      <th></th>\n",
       "      <th></th>\n",
       "      <th></th>\n",
       "      <th></th>\n",
       "      <th></th>\n",
       "    </tr>\n",
       "  </thead>\n",
       "  <tbody>\n",
       "    <tr>\n",
       "      <th>9</th>\n",
       "      <td>0.366514</td>\n",
       "      <td>0.778392</td>\n",
       "      <td>164</td>\n",
       "      <td>142</td>\n",
       "      <td>306</td>\n",
       "    </tr>\n",
       "    <tr>\n",
       "      <th>8</th>\n",
       "      <td>0.239428</td>\n",
       "      <td>0.364819</td>\n",
       "      <td>91</td>\n",
       "      <td>219</td>\n",
       "      <td>310</td>\n",
       "    </tr>\n",
       "    <tr>\n",
       "      <th>7</th>\n",
       "      <td>0.187324</td>\n",
       "      <td>0.238390</td>\n",
       "      <td>57</td>\n",
       "      <td>253</td>\n",
       "      <td>310</td>\n",
       "    </tr>\n",
       "    <tr>\n",
       "      <th>6</th>\n",
       "      <td>0.142798</td>\n",
       "      <td>0.186296</td>\n",
       "      <td>39</td>\n",
       "      <td>270</td>\n",
       "      <td>309</td>\n",
       "    </tr>\n",
       "    <tr>\n",
       "      <th>5</th>\n",
       "      <td>0.117715</td>\n",
       "      <td>0.142392</td>\n",
       "      <td>41</td>\n",
       "      <td>264</td>\n",
       "      <td>305</td>\n",
       "    </tr>\n",
       "    <tr>\n",
       "      <th>4</th>\n",
       "      <td>0.092471</td>\n",
       "      <td>0.117686</td>\n",
       "      <td>29</td>\n",
       "      <td>283</td>\n",
       "      <td>312</td>\n",
       "    </tr>\n",
       "    <tr>\n",
       "      <th>3</th>\n",
       "      <td>0.071706</td>\n",
       "      <td>0.092291</td>\n",
       "      <td>27</td>\n",
       "      <td>281</td>\n",
       "      <td>308</td>\n",
       "    </tr>\n",
       "    <tr>\n",
       "      <th>2</th>\n",
       "      <td>0.053525</td>\n",
       "      <td>0.071418</td>\n",
       "      <td>25</td>\n",
       "      <td>283</td>\n",
       "      <td>308</td>\n",
       "    </tr>\n",
       "    <tr>\n",
       "      <th>1</th>\n",
       "      <td>0.037170</td>\n",
       "      <td>0.053321</td>\n",
       "      <td>19</td>\n",
       "      <td>289</td>\n",
       "      <td>308</td>\n",
       "    </tr>\n",
       "    <tr>\n",
       "      <th>0</th>\n",
       "      <td>0.009251</td>\n",
       "      <td>0.037050</td>\n",
       "      <td>9</td>\n",
       "      <td>302</td>\n",
       "      <td>311</td>\n",
       "    </tr>\n",
       "  </tbody>\n",
       "</table>\n",
       "</div>"
      ],
      "text/plain": [
       "        Min_prob  Max_prob   #1   #0  Total\n",
       "Decile                                     \n",
       "9       0.366514  0.778392  164  142    306\n",
       "8       0.239428  0.364819   91  219    310\n",
       "7       0.187324  0.238390   57  253    310\n",
       "6       0.142798  0.186296   39  270    309\n",
       "5       0.117715  0.142392   41  264    305\n",
       "4       0.092471  0.117686   29  283    312\n",
       "3       0.071706  0.092291   27  281    308\n",
       "2       0.053525  0.071418   25  283    308\n",
       "1       0.037170  0.053321   19  289    308\n",
       "0       0.009251  0.037050    9  302    311"
      ]
     },
     "execution_count": 134,
     "metadata": {},
     "output_type": "execute_result"
    }
   ],
   "source": [
    "decile_analysis_train"
   ]
  },
  {
   "cell_type": "markdown",
   "metadata": {},
   "source": [
    "#### Decile Analysis for Test Data"
   ]
  },
  {
   "cell_type": "code",
   "execution_count": 135,
   "metadata": {},
   "outputs": [],
   "source": [
    "# Decile Analysis for Test Data\n",
    "no_1 = test_pred[['Decile','Actual']].groupby(test_pred.Decile).sum().sort_index(ascending=False)['Actual']\n",
    "no_total = test_pred[['Decile','Actual']].groupby(test_pred.Decile).count().sort_index(ascending=False)['Actual']\n",
    "max_prob = test_pred[['Decile','Prob']].groupby(test_pred.Decile).max().sort_index(ascending=False)['Prob']\n",
    "min_prob = test_pred[['Decile','Prob']].groupby(test_pred.Decile).min().sort_index(ascending=False)['Prob']"
   ]
  },
  {
   "cell_type": "code",
   "execution_count": 136,
   "metadata": {},
   "outputs": [
    {
     "data": {
      "text/html": [
       "<div>\n",
       "<style scoped>\n",
       "    .dataframe tbody tr th:only-of-type {\n",
       "        vertical-align: middle;\n",
       "    }\n",
       "\n",
       "    .dataframe tbody tr th {\n",
       "        vertical-align: top;\n",
       "    }\n",
       "\n",
       "    .dataframe thead th {\n",
       "        text-align: right;\n",
       "    }\n",
       "</style>\n",
       "<table border=\"1\" class=\"dataframe\">\n",
       "  <thead>\n",
       "    <tr style=\"text-align: right;\">\n",
       "      <th></th>\n",
       "      <th>Min_prob</th>\n",
       "      <th>Max_prob</th>\n",
       "      <th>#1</th>\n",
       "      <th>#0</th>\n",
       "      <th>Total</th>\n",
       "    </tr>\n",
       "    <tr>\n",
       "      <th>Decile</th>\n",
       "      <th></th>\n",
       "      <th></th>\n",
       "      <th></th>\n",
       "      <th></th>\n",
       "      <th></th>\n",
       "    </tr>\n",
       "  </thead>\n",
       "  <tbody>\n",
       "    <tr>\n",
       "      <th>9</th>\n",
       "      <td>0.381524</td>\n",
       "      <td>0.766720</td>\n",
       "      <td>74</td>\n",
       "      <td>58</td>\n",
       "      <td>132</td>\n",
       "    </tr>\n",
       "    <tr>\n",
       "      <th>8</th>\n",
       "      <td>0.248266</td>\n",
       "      <td>0.380611</td>\n",
       "      <td>31</td>\n",
       "      <td>102</td>\n",
       "      <td>133</td>\n",
       "    </tr>\n",
       "    <tr>\n",
       "      <th>7</th>\n",
       "      <td>0.189572</td>\n",
       "      <td>0.247044</td>\n",
       "      <td>20</td>\n",
       "      <td>112</td>\n",
       "      <td>132</td>\n",
       "    </tr>\n",
       "    <tr>\n",
       "      <th>6</th>\n",
       "      <td>0.146060</td>\n",
       "      <td>0.188232</td>\n",
       "      <td>20</td>\n",
       "      <td>111</td>\n",
       "      <td>131</td>\n",
       "    </tr>\n",
       "    <tr>\n",
       "      <th>5</th>\n",
       "      <td>0.116775</td>\n",
       "      <td>0.145566</td>\n",
       "      <td>13</td>\n",
       "      <td>120</td>\n",
       "      <td>133</td>\n",
       "    </tr>\n",
       "    <tr>\n",
       "      <th>4</th>\n",
       "      <td>0.091228</td>\n",
       "      <td>0.116612</td>\n",
       "      <td>17</td>\n",
       "      <td>116</td>\n",
       "      <td>133</td>\n",
       "    </tr>\n",
       "    <tr>\n",
       "      <th>3</th>\n",
       "      <td>0.070397</td>\n",
       "      <td>0.090501</td>\n",
       "      <td>11</td>\n",
       "      <td>118</td>\n",
       "      <td>129</td>\n",
       "    </tr>\n",
       "    <tr>\n",
       "      <th>2</th>\n",
       "      <td>0.053807</td>\n",
       "      <td>0.070387</td>\n",
       "      <td>13</td>\n",
       "      <td>122</td>\n",
       "      <td>135</td>\n",
       "    </tr>\n",
       "    <tr>\n",
       "      <th>1</th>\n",
       "      <td>0.038330</td>\n",
       "      <td>0.053525</td>\n",
       "      <td>5</td>\n",
       "      <td>126</td>\n",
       "      <td>131</td>\n",
       "    </tr>\n",
       "    <tr>\n",
       "      <th>0</th>\n",
       "      <td>0.009251</td>\n",
       "      <td>0.037926</td>\n",
       "      <td>6</td>\n",
       "      <td>128</td>\n",
       "      <td>134</td>\n",
       "    </tr>\n",
       "  </tbody>\n",
       "</table>\n",
       "</div>"
      ],
      "text/plain": [
       "        Min_prob  Max_prob  #1   #0  Total\n",
       "Decile                                    \n",
       "9       0.381524  0.766720  74   58    132\n",
       "8       0.248266  0.380611  31  102    133\n",
       "7       0.189572  0.247044  20  112    132\n",
       "6       0.146060  0.188232  20  111    131\n",
       "5       0.116775  0.145566  13  120    133\n",
       "4       0.091228  0.116612  17  116    133\n",
       "3       0.070397  0.090501  11  118    129\n",
       "2       0.053807  0.070387  13  122    135\n",
       "1       0.038330  0.053525   5  126    131\n",
       "0       0.009251  0.037926   6  128    134"
      ]
     },
     "execution_count": 136,
     "metadata": {},
     "output_type": "execute_result"
    }
   ],
   "source": [
    "decile_analysis_test = pd.concat([min_prob,max_prob,no_1,no_total-no_1,no_total], axis=1)\n",
    "decile_analysis_test.columns = ['Min_prob','Max_prob','#1','#0','Total']\n",
    "decile_analysis_test"
   ]
  },
  {
   "cell_type": "code",
   "execution_count": 137,
   "metadata": {},
   "outputs": [],
   "source": [
    "decile_analysis_train.to_csv('HRA_Decil_Analysis_Train.csv')"
   ]
  },
  {
   "cell_type": "code",
   "execution_count": 138,
   "metadata": {},
   "outputs": [],
   "source": [
    "decile_analysis_test.to_csv('HRA_Decil_Analysis_Test.csv')"
   ]
  }
 ],
 "metadata": {
  "kernelspec": {
   "display_name": "Python 3",
   "language": "python",
   "name": "python3"
  },
  "language_info": {
   "codemirror_mode": {
    "name": "ipython",
    "version": 3
   },
   "file_extension": ".py",
   "mimetype": "text/x-python",
   "name": "python",
   "nbconvert_exporter": "python",
   "pygments_lexer": "ipython3",
   "version": "3.8.3"
  }
 },
 "nbformat": 4,
 "nbformat_minor": 4
}
